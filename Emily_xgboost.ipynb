{
  "nbformat": 4,
  "nbformat_minor": 0,
  "metadata": {
    "colab": {
      "name": "Emily_xgboost.ipynb",
      "provenance": [],
      "include_colab_link": true
    },
    "kernelspec": {
      "name": "python3",
      "display_name": "Python 3"
    },
    "language_info": {
      "name": "python"
    }
  },
  "cells": [
    {
      "cell_type": "markdown",
      "metadata": {
        "id": "view-in-github",
        "colab_type": "text"
      },
      "source": [
        "<a href=\"https://colab.research.google.com/github/brip/SC22-BatchC-shimmering-pythons/blob/main/Emily_xgboost.ipynb\" target=\"_parent\"><img src=\"https://colab.research.google.com/assets/colab-badge.svg\" alt=\"Open In Colab\"/></a>"
      ]
    },
    {
      "cell_type": "code",
      "execution_count": null,
      "metadata": {
        "id": "h5cXlf0xMAp8",
        "colab": {
          "base_uri": "https://localhost:8080/",
          "height": 317
        },
        "outputId": "f89f5bc4-cb43-4c98-b277-55ccc6982ecc"
      },
      "outputs": [
        {
          "output_type": "stream",
          "name": "stdout",
          "text": [
            "Precision: 0.688\n",
            "0.6492950304513474\n"
          ]
        },
        {
          "output_type": "execute_result",
          "data": {
            "text/plain": [
              "<matplotlib.axes._subplots.AxesSubplot at 0x7f78678bc290>"
            ]
          },
          "metadata": {},
          "execution_count": 2
        },
        {
          "output_type": "display_data",
          "data": {
            "text/plain": [
              "<Figure size 432x288 with 2 Axes>"
            ],
            "image/png": "[encoded data removed]"
          },
          "metadata": {
            "needs_background": "light"
          }
        }
      ],
      "source": [
        "import xgboost as xgb\n",
        "from xgboost import XGBClassifier\n",
        "import seaborn as sns\n",
        "import pandas as pd\n",
        "import numpy as np\n",
        "from sklearn.model_selection import train_test_split\n",
        "from sklearn.metrics import accuracy_score\n",
        "from sklearn.compose import ColumnTransformer\n",
        "from sklearn.pipeline import Pipeline\n",
        "from sklearn.impute import SimpleImputer\n",
        "from sklearn.preprocessing import OneHotEncoder\n",
        "from sklearn.metrics import confusion_matrix\n",
        "from sklearn.metrics import precision_score\n",
        "\n",
        "data = pd.read_csv(\"/content/Data/Airlines.csv\")\n",
        "columns_to_drop=[\"id\",\"Flight\"]\n",
        "data.drop(columns_to_drop, axis=1, inplace = True)\n",
        "data.dropna(inplace=True)\n",
        "data.reset_index(drop=True, inplace=True)\n",
        "\n",
        "target = data[\"Delay\"]\n",
        "input_columns = data.loc[:, data.columns != \"Delay\"]\n",
        "x_train, x_test, y_train, y_test = train_test_split(input_columns, target, test_size=0.2,random_state=42)\n",
        "\n",
        "numerical_cols = [cname for cname in x_train.columns if x_train[cname].dtype in ['int64', 'float64']]\n",
        "categorical_cols = [cname for cname in x_train.columns if x_train[cname].dtype == \"object\"]\n",
        "\n",
        "numerical_transformer = SimpleImputer(strategy='constant')\n",
        "categorical_transformer = Pipeline(steps=[\n",
        "    ('imputer', SimpleImputer(strategy='most_frequent')),\n",
        "    ('onehot', OneHotEncoder(handle_unknown='ignore'))\n",
        "])\n",
        "preprocessor = ColumnTransformer(\n",
        "    transformers=[\n",
        "        ('num', numerical_transformer, numerical_cols),\n",
        "        ('cat', categorical_transformer, categorical_cols)\n",
        "    ])\n",
        "\n",
        "model = XGBClassifier()\n",
        "\n",
        "my_pipeline = Pipeline(steps=[('preprocessor', preprocessor),\n",
        "                              ('model', model)\n",
        "                             ])\n",
        "\n",
        "my_pipeline.fit(x_train, y_train)\n",
        "preds = my_pipeline.predict(x_test)\n",
        "score = accuracy_score(y_test,preds)\n",
        "precision = precision_score(y_test, preds, average='binary')\n",
        "\n",
        "print('Precision: %.3f' % precision)\n",
        "print(score)\n",
        "sns.heatmap(confusion_matrix(y_test, preds), annot=True, fmt='g')"
      ]
    },
    {
      "cell_type": "code",
      "source": [
        "import xgboost as xgb\n",
        "from sklearn.ensemble import RandomForestClassifier\n",
        "import seaborn as sns\n",
        "import pandas as pd\n",
        "import numpy as np\n",
        "from sklearn.model_selection import train_test_split\n",
        "from sklearn.metrics import accuracy_score\n",
        "from sklearn.compose import ColumnTransformer\n",
        "from sklearn.pipeline import Pipeline\n",
        "from sklearn.impute import SimpleImputer\n",
        "from sklearn.preprocessing import OneHotEncoder\n",
        "from sklearn.metrics import confusion_matrix\n",
        "from sklearn.preprocessing import StandardScaler\n",
        "\n",
        "data = pd.read_csv(\"/content/Data/Airlines.csv\")\n",
        "columns_to_drop=[\"id\",\"Flight\"]\n",
        "data.drop(columns_to_drop, axis=1, inplace = True)\n",
        "data.dropna(inplace=True)\n",
        "data.reset_index(drop=True, inplace=True)\n",
        "data = data.drop(labels=range(269691, 539383), axis=0)\n",
        "\n",
        "target = data[\"Delay\"]\n",
        "input_columns = data.loc[:, data.columns != \"Delay\"]\n",
        "scaler = StandardScaler()\n",
        "\n",
        "x_train, x_test, y_train, y_test = train_test_split(input_columns, target, test_size=0.2,random_state=42)\n",
        "\n",
        "numerical_cols = [cname for cname in x_train.columns if x_train[cname].dtype in ['int64', 'float64']]\n",
        "categorical_cols = [cname for cname in x_train.columns if x_train[cname].dtype == \"object\"]\n",
        "\n",
        "numerical_transformer = SimpleImputer(strategy='constant')\n",
        "categorical_transformer = Pipeline(steps=[\n",
        "    ('imputer', SimpleImputer(strategy='most_frequent')),\n",
        "    ('onehot', OneHotEncoder(handle_unknown='ignore'))\n",
        "])\n",
        "preprocessor = ColumnTransformer(\n",
        "    transformers=[\n",
        "        ('num', numerical_transformer, numerical_cols),\n",
        "        ('cat', categorical_transformer, categorical_cols)\n",
        "    ])\n",
        "\n",
        "model = RandomForestClassifier(n_estimators=100)\n",
        "\n",
        "my_pipeline = Pipeline(steps=[('preprocessor', preprocessor),\n",
        "                              ('model', model)\n",
        "                             ])\n",
        "\n",
        "my_pipeline.fit(x_train, y_train)\n",
        "preds = my_pipeline.predict(x_test)\n",
        "score = accuracy_score(y_test,preds)\n",
        "precision = precision_score(y_test, preds, average='binary')\n",
        "\n",
        "print('Precision: %.3f' % precision)\n",
        "print(score)\n",
        "sns.heatmap(confusion_matrix(y_test, preds), annot=True, fmt='g')"
      ],
      "metadata": {
        "id": "1HDmf9_XU_NT"
      },
      "execution_count": null,
      "outputs": []
    },
    {
      "cell_type": "code",
      "source": [
        ""
      ],
      "metadata": {
        "id": "iMFgZhc_MCnG"
      },
      "execution_count": null,
      "outputs": []
    }
  ]
}