{
 "cells": [
  {
   "cell_type": "markdown",
   "metadata": {
    "collapsed": false,
    "id": "R9tvKItivlxp"
   },
   "source": [
    "# Who is ready to learn? (Our Machines Are!)\n",
    "\n",
    "Our task at hand -- building an AI that can save lives.\n",
    "\n",
    "Today we are going to work to create an AI that can predict whether a breast cancer tumor is benign or malignant. This diagnosis has incredibly important medical implications for those who are diagnosed with breast cancer. \n",
    "\n",
    "Before we get started, you should make sure you know what the difference between benign and malignant tumors are and discuss them with your team.\n",
    "\n",
    "**Hint:** we recommend you heavily refer to your EDA mini project from last week for this activity! "
   ]
  },
  {
   "cell_type": "markdown",
   "metadata": {
    "collapsed": false,
    "id": "m-qQYrLDw0EN"
   },
   "source": [
    "### Step 1: Imports and Preprocessing\n",
    "\n",
    "We need to `import pandas as pd` and read in our data. It is currently a .csv (comma-separated value) file, and we generally use the pd.read_csv() function from pandas to read our data into a dataframe."
   ]
  },
  {
   "cell_type": "code",
   "execution_count": 9,
   "metadata": {
    "collapsed": false,
    "id": "f0O0Zg5xvX1N"
   },
   "outputs": [
   ],
   "source": [
    "import pandas as pd\n",
    "import numpy as np"
   ]
  },
  {
   "cell_type": "code",
   "execution_count": 10,
   "metadata": {
    "collapsed": false,
    "id": "BvK5i4DcvcTg"
   },
   "outputs": [
    {
     "ename": "SyntaxError",
     "evalue": "invalid syntax (444188934.py, line 1)",
     "output_type": "error",
     "traceback": [
      "\u001b[0;36m  Input \u001b[0;32mIn [10]\u001b[0;36m\u001b[0m\n\u001b[0;31m    import breast_cancer = pd.read_csv(\"https://raw.githubusercontent.com/pkmklong/Breast-Cancer-Wisconsin-Diagnostic-DataSet/master/data.csv\") as df\u001b[0m\n\u001b[0m                         ^\u001b[0m\n\u001b[0;31mSyntaxError\u001b[0m\u001b[0;31m:\u001b[0m invalid syntax\n"
     ]
    }
   ],
   "source": [
    "breast_cancer = pd.read_csv(\"https://raw.githubusercontent.com/pkmklong/Breast-Cancer-Wisconsin-Diagnostic-DataSet/master/data.csv\") "
   ]
  },
  {
   "cell_type": "markdown",
   "metadata": {
    "collapsed": false,
    "id": "rdwjqFR8xdE2"
   },
   "source": [
    "**TODO:** Do you remember how to print the first five rows of a pandas dataframe? How about all of the columns? How about the number of rows? Please do that below and google anything you are unsure about. \n",
    "\n"
   ]
  },
  {
   "cell_type": "code",
   "execution_count": 6,
   "metadata": {
    "collapsed": false,
    "id": "B5QnmTysxcJT"
   },
   "outputs": [
    {
     "data": {
      "text/html": [
       "<div>\n",
       "<style scoped>\n",
       "    .dataframe tbody tr th:only-of-type {\n",
       "        vertical-align: middle;\n",
       "    }\n",
       "\n",
       "    .dataframe tbody tr th {\n",
       "        vertical-align: top;\n",
       "    }\n",
       "\n",
       "    .dataframe thead th {\n",
       "        text-align: right;\n",
       "    }\n",
       "</style>\n",
       "<table border=\"1\" class=\"dataframe\">\n",
       "  <thead>\n",
       "    <tr style=\"text-align: right;\">\n",
       "      <th></th>\n",
       "      <th>id</th>\n",
       "      <th>diagnosis</th>\n",
       "      <th>radius_mean</th>\n",
       "      <th>texture_mean</th>\n",
       "      <th>perimeter_mean</th>\n",
       "      <th>area_mean</th>\n",
       "      <th>smoothness_mean</th>\n",
       "      <th>compactness_mean</th>\n",
       "      <th>concavity_mean</th>\n",
       "      <th>concave points_mean</th>\n",
       "      <th>...</th>\n",
       "      <th>texture_worst</th>\n",
       "      <th>perimeter_worst</th>\n",
       "      <th>area_worst</th>\n",
       "      <th>smoothness_worst</th>\n",
       "      <th>compactness_worst</th>\n",
       "      <th>concavity_worst</th>\n",
       "      <th>concave points_worst</th>\n",
       "      <th>symmetry_worst</th>\n",
       "      <th>fractal_dimension_worst</th>\n",
       "      <th>Unnamed: 32</th>\n",
       "    </tr>\n",
       "  </thead>\n",
       "  <tbody>\n",
       "    <tr>\n",
       "      <th>0</th>\n",
       "      <td>842302</td>\n",
       "      <td>M</td>\n",
       "      <td>17.99</td>\n",
       "      <td>10.38</td>\n",
       "      <td>122.80</td>\n",
       "      <td>1001.0</td>\n",
       "      <td>0.11840</td>\n",
       "      <td>0.27760</td>\n",
       "      <td>0.3001</td>\n",
       "      <td>0.14710</td>\n",
       "      <td>...</td>\n",
       "      <td>17.33</td>\n",
       "      <td>184.60</td>\n",
       "      <td>2019.0</td>\n",
       "      <td>0.1622</td>\n",
       "      <td>0.6656</td>\n",
       "      <td>0.7119</td>\n",
       "      <td>0.2654</td>\n",
       "      <td>0.4601</td>\n",
       "      <td>0.11890</td>\n",
       "      <td>NaN</td>\n",
       "    </tr>\n",
       "    <tr>\n",
       "      <th>1</th>\n",
       "      <td>842517</td>\n",
       "      <td>M</td>\n",
       "      <td>20.57</td>\n",
       "      <td>17.77</td>\n",
       "      <td>132.90</td>\n",
       "      <td>1326.0</td>\n",
       "      <td>0.08474</td>\n",
       "      <td>0.07864</td>\n",
       "      <td>0.0869</td>\n",
       "      <td>0.07017</td>\n",
       "      <td>...</td>\n",
       "      <td>23.41</td>\n",
       "      <td>158.80</td>\n",
       "      <td>1956.0</td>\n",
       "      <td>0.1238</td>\n",
       "      <td>0.1866</td>\n",
       "      <td>0.2416</td>\n",
       "      <td>0.1860</td>\n",
       "      <td>0.2750</td>\n",
       "      <td>0.08902</td>\n",
       "      <td>NaN</td>\n",
       "    </tr>\n",
       "    <tr>\n",
       "      <th>2</th>\n",
       "      <td>84300903</td>\n",
       "      <td>M</td>\n",
       "      <td>19.69</td>\n",
       "      <td>21.25</td>\n",
       "      <td>130.00</td>\n",
       "      <td>1203.0</td>\n",
       "      <td>0.10960</td>\n",
       "      <td>0.15990</td>\n",
       "      <td>0.1974</td>\n",
       "      <td>0.12790</td>\n",
       "      <td>...</td>\n",
       "      <td>25.53</td>\n",
       "      <td>152.50</td>\n",
       "      <td>1709.0</td>\n",
       "      <td>0.1444</td>\n",
       "      <td>0.4245</td>\n",
       "      <td>0.4504</td>\n",
       "      <td>0.2430</td>\n",
       "      <td>0.3613</td>\n",
       "      <td>0.08758</td>\n",
       "      <td>NaN</td>\n",
       "    </tr>\n",
       "    <tr>\n",
       "      <th>3</th>\n",
       "      <td>84348301</td>\n",
       "      <td>M</td>\n",
       "      <td>11.42</td>\n",
       "      <td>20.38</td>\n",
       "      <td>77.58</td>\n",
       "      <td>386.1</td>\n",
       "      <td>0.14250</td>\n",
       "      <td>0.28390</td>\n",
       "      <td>0.2414</td>\n",
       "      <td>0.10520</td>\n",
       "      <td>...</td>\n",
       "      <td>26.50</td>\n",
       "      <td>98.87</td>\n",
       "      <td>567.7</td>\n",
       "      <td>0.2098</td>\n",
       "      <td>0.8663</td>\n",
       "      <td>0.6869</td>\n",
       "      <td>0.2575</td>\n",
       "      <td>0.6638</td>\n",
       "      <td>0.17300</td>\n",
       "      <td>NaN</td>\n",
       "    </tr>\n",
       "    <tr>\n",
       "      <th>4</th>\n",
       "      <td>84358402</td>\n",
       "      <td>M</td>\n",
       "      <td>20.29</td>\n",
       "      <td>14.34</td>\n",
       "      <td>135.10</td>\n",
       "      <td>1297.0</td>\n",
       "      <td>0.10030</td>\n",
       "      <td>0.13280</td>\n",
       "      <td>0.1980</td>\n",
       "      <td>0.10430</td>\n",
       "      <td>...</td>\n",
       "      <td>16.67</td>\n",
       "      <td>152.20</td>\n",
       "      <td>1575.0</td>\n",
       "      <td>0.1374</td>\n",
       "      <td>0.2050</td>\n",
       "      <td>0.4000</td>\n",
       "      <td>0.1625</td>\n",
       "      <td>0.2364</td>\n",
       "      <td>0.07678</td>\n",
       "      <td>NaN</td>\n",
       "    </tr>\n",
       "  </tbody>\n",
       "</table>\n",
       "<p>5 rows × 33 columns</p>\n",
       "</div>"
      ],
      "text/plain": [
       "         id diagnosis  radius_mean  texture_mean  perimeter_mean  area_mean  \\\n",
       "0    842302         M        17.99         10.38          122.80     1001.0   \n",
       "1    842517         M        20.57         17.77          132.90     1326.0   \n",
       "2  84300903         M        19.69         21.25          130.00     1203.0   \n",
       "3  84348301         M        11.42         20.38           77.58      386.1   \n",
       "4  84358402         M        20.29         14.34          135.10     1297.0   \n",
       "\n",
       "   smoothness_mean  compactness_mean  concavity_mean  concave points_mean  \\\n",
       "0          0.11840           0.27760          0.3001              0.14710   \n",
       "1          0.08474           0.07864          0.0869              0.07017   \n",
       "2          0.10960           0.15990          0.1974              0.12790   \n",
       "3          0.14250           0.28390          0.2414              0.10520   \n",
       "4          0.10030           0.13280          0.1980              0.10430   \n",
       "\n",
       "   ...  texture_worst  perimeter_worst  area_worst  smoothness_worst  \\\n",
       "0  ...          17.33           184.60      2019.0            0.1622   \n",
       "1  ...          23.41           158.80      1956.0            0.1238   \n",
       "2  ...          25.53           152.50      1709.0            0.1444   \n",
       "3  ...          26.50            98.87       567.7            0.2098   \n",
       "4  ...          16.67           152.20      1575.0            0.1374   \n",
       "\n",
       "   compactness_worst  concavity_worst  concave points_worst  symmetry_worst  \\\n",
       "0             0.6656           0.7119                0.2654          0.4601   \n",
       "1             0.1866           0.2416                0.1860          0.2750   \n",
       "2             0.4245           0.4504                0.2430          0.3613   \n",
       "3             0.8663           0.6869                0.2575          0.6638   \n",
       "4             0.2050           0.4000                0.1625          0.2364   \n",
       "\n",
       "   fractal_dimension_worst  Unnamed: 32  \n",
       "0                  0.11890          NaN  \n",
       "1                  0.08902          NaN  \n",
       "2                  0.08758          NaN  \n",
       "3                  0.17300          NaN  \n",
       "4                  0.07678          NaN  \n",
       "\n",
       "[5 rows x 33 columns]"
      ]
     },
     "execution_count": 6,
     "metadata": {
     },
     "output_type": "execute_result"
    }
   ],
   "source": [
    "# print first five rows of breast_cancer\n",
    "breast_cancer.head()"
   ]
  },
  {
   "cell_type": "code",
   "execution_count": 11,
   "metadata": {
    "collapsed": false,
    "id": "qQ5KjWIMwGaP"
   },
   "outputs": [
    {
     "name": "stdout",
     "output_type": "stream",
     "text": [
      "Index(['id', 'diagnosis', 'radius_mean', 'texture_mean', 'perimeter_mean',\n",
      "       'area_mean', 'smoothness_mean', 'compactness_mean', 'concavity_mean',\n",
      "       'concave points_mean', 'symmetry_mean', 'fractal_dimension_mean',\n",
      "       'radius_se', 'texture_se', 'perimeter_se', 'area_se', 'smoothness_se',\n",
      "       'compactness_se', 'concavity_se', 'concave points_se', 'symmetry_se',\n",
      "       'fractal_dimension_se', 'radius_worst', 'texture_worst',\n",
      "       'perimeter_worst', 'area_worst', 'smoothness_worst',\n",
      "       'compactness_worst', 'concavity_worst', 'concave points_worst',\n",
      "       'symmetry_worst', 'fractal_dimension_worst', 'Unnamed: 32'],\n",
      "      dtype='object')\n"
     ]
    }
   ],
   "source": [
    "# print columns of breast_cancer\n",
    "print (breast_cancer.columns)"
   ]
  },
  {
   "cell_type": "code",
   "execution_count": 12,
   "metadata": {
    "collapsed": false,
    "id": "LxELBWOdxsrl"
   },
   "outputs": [
    {
     "data": {
      "text/plain": [
       "569"
      ]
     },
     "execution_count": 12,
     "metadata": {
     },
     "output_type": "execute_result"
    }
   ],
   "source": [
    "# print the number of rows in breast_cancer\n",
    "len(breast_cancer)"
   ]
  },
  {
   "cell_type": "code",
   "execution_count": 13,
   "metadata": {
    "collapsed": false,
    "id": "lFnrZickyynD"
   },
   "outputs": [
    {
     "data": {
      "text/html": [
       "<div>\n",
       "<style scoped>\n",
       "    .dataframe tbody tr th:only-of-type {\n",
       "        vertical-align: middle;\n",
       "    }\n",
       "\n",
       "    .dataframe tbody tr th {\n",
       "        vertical-align: top;\n",
       "    }\n",
       "\n",
       "    .dataframe thead th {\n",
       "        text-align: right;\n",
       "    }\n",
       "</style>\n",
       "<table border=\"1\" class=\"dataframe\">\n",
       "  <thead>\n",
       "    <tr style=\"text-align: right;\">\n",
       "      <th></th>\n",
       "      <th>id</th>\n",
       "      <th>diagnosis</th>\n",
       "      <th>radius_mean</th>\n",
       "      <th>texture_mean</th>\n",
       "      <th>perimeter_mean</th>\n",
       "      <th>area_mean</th>\n",
       "      <th>smoothness_mean</th>\n",
       "      <th>compactness_mean</th>\n",
       "      <th>concavity_mean</th>\n",
       "      <th>concave points_mean</th>\n",
       "      <th>...</th>\n",
       "      <th>texture_worst</th>\n",
       "      <th>perimeter_worst</th>\n",
       "      <th>area_worst</th>\n",
       "      <th>smoothness_worst</th>\n",
       "      <th>compactness_worst</th>\n",
       "      <th>concavity_worst</th>\n",
       "      <th>concave points_worst</th>\n",
       "      <th>symmetry_worst</th>\n",
       "      <th>fractal_dimension_worst</th>\n",
       "      <th>Unnamed: 32</th>\n",
       "    </tr>\n",
       "  </thead>\n",
       "  <tbody>\n",
       "    <tr>\n",
       "      <th>567</th>\n",
       "      <td>927241</td>\n",
       "      <td>M</td>\n",
       "      <td>20.60</td>\n",
       "      <td>29.33</td>\n",
       "      <td>140.10</td>\n",
       "      <td>1265.0</td>\n",
       "      <td>0.11780</td>\n",
       "      <td>0.27700</td>\n",
       "      <td>0.3514</td>\n",
       "      <td>0.152</td>\n",
       "      <td>...</td>\n",
       "      <td>39.42</td>\n",
       "      <td>184.60</td>\n",
       "      <td>1821.0</td>\n",
       "      <td>0.16500</td>\n",
       "      <td>0.86810</td>\n",
       "      <td>0.9387</td>\n",
       "      <td>0.265</td>\n",
       "      <td>0.4087</td>\n",
       "      <td>0.12400</td>\n",
       "      <td>NaN</td>\n",
       "    </tr>\n",
       "    <tr>\n",
       "      <th>568</th>\n",
       "      <td>92751</td>\n",
       "      <td>B</td>\n",
       "      <td>7.76</td>\n",
       "      <td>24.54</td>\n",
       "      <td>47.92</td>\n",
       "      <td>181.0</td>\n",
       "      <td>0.05263</td>\n",
       "      <td>0.04362</td>\n",
       "      <td>0.0000</td>\n",
       "      <td>0.000</td>\n",
       "      <td>...</td>\n",
       "      <td>30.37</td>\n",
       "      <td>59.16</td>\n",
       "      <td>268.6</td>\n",
       "      <td>0.08996</td>\n",
       "      <td>0.06444</td>\n",
       "      <td>0.0000</td>\n",
       "      <td>0.000</td>\n",
       "      <td>0.2871</td>\n",
       "      <td>0.07039</td>\n",
       "      <td>NaN</td>\n",
       "    </tr>\n",
       "  </tbody>\n",
       "</table>\n",
       "<p>2 rows × 33 columns</p>\n",
       "</div>"
      ],
      "text/plain": [
       "         id diagnosis  radius_mean  texture_mean  perimeter_mean  area_mean  \\\n",
       "567  927241         M        20.60         29.33          140.10     1265.0   \n",
       "568   92751         B         7.76         24.54           47.92      181.0   \n",
       "\n",
       "     smoothness_mean  compactness_mean  concavity_mean  concave points_mean  \\\n",
       "567          0.11780           0.27700          0.3514                0.152   \n",
       "568          0.05263           0.04362          0.0000                0.000   \n",
       "\n",
       "     ...  texture_worst  perimeter_worst  area_worst  smoothness_worst  \\\n",
       "567  ...          39.42           184.60      1821.0           0.16500   \n",
       "568  ...          30.37            59.16       268.6           0.08996   \n",
       "\n",
       "     compactness_worst  concavity_worst  concave points_worst  symmetry_worst  \\\n",
       "567            0.86810           0.9387                 0.265          0.4087   \n",
       "568            0.06444           0.0000                 0.000          0.2871   \n",
       "\n",
       "     fractal_dimension_worst  Unnamed: 32  \n",
       "567                  0.12400          NaN  \n",
       "568                  0.07039          NaN  \n",
       "\n",
       "[2 rows x 33 columns]"
      ]
     },
     "execution_count": 13,
     "metadata": {
     },
     "output_type": "execute_result"
    }
   ],
   "source": [
    "# explore anything else you are interested in here\n",
    "breast_cancer.tail(2)"
   ]
  },
  {
   "cell_type": "markdown",
   "metadata": {
    "collapsed": false,
    "id": "Q8MwFiBX0Zdu"
   },
   "source": [
    "**TODO:** Can you figure out how many rows are malignant (M) and how many are benign (B)? \n",
    "\n"
   ]
  },
  {
   "cell_type": "code",
   "execution_count": 33,
   "metadata": {
    "collapsed": false,
    "id": "0tYK-EaL0g8y"
   },
   "outputs": [
    {
     "data": {
      "text/plain": [
       "357"
      ]
     },
     "execution_count": 33,
     "metadata": {
     },
     "output_type": "execute_result"
    }
   ],
   "source": [
    "# Figure out how many rows are malignant and how many are benign. Hint: use the .count() function!\n",
    "\n",
    "breast_cancer[[\"diagnosis\"]].value_counts()[\"M\"]\n",
    "breast_cancer[[\"diagnosis\"]].value_counts()[\"B\"]\n",
    "\n",
    "\n",
    "\n",
    "\n",
    "\n",
    "\n"
   ]
  },
  {
   "cell_type": "markdown",
   "metadata": {
    "collapsed": false,
    "id": "XjS_4CFYxx52"
   },
   "source": [
    "### Step 2: Do Your Research\n",
    "That is a ton of columns. That is a ton of data! Where do we start? \n",
    "\n",
    "You should probably do some research on this dataset to find out what the columns mean. I got it on kaggle - you can read about it here: [Wisconsin Breast Cancer Dataset](https://www.kaggle.com/datasets/uciml/breast-cancer-wisconsin-data).\n"
   ]
  },
  {
   "cell_type": "markdown",
   "metadata": {
    "collapsed": false,
    "id": "ujuEOdIYyaV8"
   },
   "source": [
    "### Step 3: Cleaning our data up!\n",
    "\n",
    "Maybe there are some columns we don't need. The last column makes zero sense right? Do we need an id column for our purposes? You should drop **any** columns that you feel are not worth keeping track of. \n",
    "\n",
    "Pandas' `drop()` documentation: https://pandas.pydata.org/docs/reference/api/pandas.DataFrame.drop.html. Remember to use `inplace = True` if you are changing your dataframe and note creating a new one!\n",
    "\n",
    "**Note:** This data is pretty clean! We only need a few lines for this dataset."
   ]
  },
  {
   "cell_type": "code",
   "execution_count": 36,
   "metadata": {
    "collapsed": false,
    "id": "GsTMmM8EzBJ9"
   },
   "outputs": [
    {
     "data": {
      "text/html": [
       "<div>\n",
       "<style scoped>\n",
       "    .dataframe tbody tr th:only-of-type {\n",
       "        vertical-align: middle;\n",
       "    }\n",
       "\n",
       "    .dataframe tbody tr th {\n",
       "        vertical-align: top;\n",
       "    }\n",
       "\n",
       "    .dataframe thead th {\n",
       "        text-align: right;\n",
       "    }\n",
       "</style>\n",
       "<table border=\"1\" class=\"dataframe\">\n",
       "  <thead>\n",
       "    <tr style=\"text-align: right;\">\n",
       "      <th></th>\n",
       "      <th>diagnosis</th>\n",
       "      <th>radius_mean</th>\n",
       "      <th>texture_mean</th>\n",
       "      <th>perimeter_mean</th>\n",
       "      <th>area_mean</th>\n",
       "      <th>smoothness_mean</th>\n",
       "      <th>compactness_mean</th>\n",
       "      <th>concavity_mean</th>\n",
       "      <th>concave points_mean</th>\n",
       "      <th>symmetry_mean</th>\n",
       "      <th>...</th>\n",
       "      <th>radius_worst</th>\n",
       "      <th>texture_worst</th>\n",
       "      <th>perimeter_worst</th>\n",
       "      <th>area_worst</th>\n",
       "      <th>smoothness_worst</th>\n",
       "      <th>compactness_worst</th>\n",
       "      <th>concavity_worst</th>\n",
       "      <th>concave points_worst</th>\n",
       "      <th>symmetry_worst</th>\n",
       "      <th>fractal_dimension_worst</th>\n",
       "    </tr>\n",
       "  </thead>\n",
       "  <tbody>\n",
       "    <tr>\n",
       "      <th>0</th>\n",
       "      <td>M</td>\n",
       "      <td>17.99</td>\n",
       "      <td>10.38</td>\n",
       "      <td>122.80</td>\n",
       "      <td>1001.0</td>\n",
       "      <td>0.11840</td>\n",
       "      <td>0.27760</td>\n",
       "      <td>0.3001</td>\n",
       "      <td>0.14710</td>\n",
       "      <td>0.2419</td>\n",
       "      <td>...</td>\n",
       "      <td>25.38</td>\n",
       "      <td>17.33</td>\n",
       "      <td>184.60</td>\n",
       "      <td>2019.0</td>\n",
       "      <td>0.1622</td>\n",
       "      <td>0.6656</td>\n",
       "      <td>0.7119</td>\n",
       "      <td>0.2654</td>\n",
       "      <td>0.4601</td>\n",
       "      <td>0.11890</td>\n",
       "    </tr>\n",
       "    <tr>\n",
       "      <th>1</th>\n",
       "      <td>M</td>\n",
       "      <td>20.57</td>\n",
       "      <td>17.77</td>\n",
       "      <td>132.90</td>\n",
       "      <td>1326.0</td>\n",
       "      <td>0.08474</td>\n",
       "      <td>0.07864</td>\n",
       "      <td>0.0869</td>\n",
       "      <td>0.07017</td>\n",
       "      <td>0.1812</td>\n",
       "      <td>...</td>\n",
       "      <td>24.99</td>\n",
       "      <td>23.41</td>\n",
       "      <td>158.80</td>\n",
       "      <td>1956.0</td>\n",
       "      <td>0.1238</td>\n",
       "      <td>0.1866</td>\n",
       "      <td>0.2416</td>\n",
       "      <td>0.1860</td>\n",
       "      <td>0.2750</td>\n",
       "      <td>0.08902</td>\n",
       "    </tr>\n",
       "    <tr>\n",
       "      <th>2</th>\n",
       "      <td>M</td>\n",
       "      <td>19.69</td>\n",
       "      <td>21.25</td>\n",
       "      <td>130.00</td>\n",
       "      <td>1203.0</td>\n",
       "      <td>0.10960</td>\n",
       "      <td>0.15990</td>\n",
       "      <td>0.1974</td>\n",
       "      <td>0.12790</td>\n",
       "      <td>0.2069</td>\n",
       "      <td>...</td>\n",
       "      <td>23.57</td>\n",
       "      <td>25.53</td>\n",
       "      <td>152.50</td>\n",
       "      <td>1709.0</td>\n",
       "      <td>0.1444</td>\n",
       "      <td>0.4245</td>\n",
       "      <td>0.4504</td>\n",
       "      <td>0.2430</td>\n",
       "      <td>0.3613</td>\n",
       "      <td>0.08758</td>\n",
       "    </tr>\n",
       "    <tr>\n",
       "      <th>3</th>\n",
       "      <td>M</td>\n",
       "      <td>11.42</td>\n",
       "      <td>20.38</td>\n",
       "      <td>77.58</td>\n",
       "      <td>386.1</td>\n",
       "      <td>0.14250</td>\n",
       "      <td>0.28390</td>\n",
       "      <td>0.2414</td>\n",
       "      <td>0.10520</td>\n",
       "      <td>0.2597</td>\n",
       "      <td>...</td>\n",
       "      <td>14.91</td>\n",
       "      <td>26.50</td>\n",
       "      <td>98.87</td>\n",
       "      <td>567.7</td>\n",
       "      <td>0.2098</td>\n",
       "      <td>0.8663</td>\n",
       "      <td>0.6869</td>\n",
       "      <td>0.2575</td>\n",
       "      <td>0.6638</td>\n",
       "      <td>0.17300</td>\n",
       "    </tr>\n",
       "    <tr>\n",
       "      <th>4</th>\n",
       "      <td>M</td>\n",
       "      <td>20.29</td>\n",
       "      <td>14.34</td>\n",
       "      <td>135.10</td>\n",
       "      <td>1297.0</td>\n",
       "      <td>0.10030</td>\n",
       "      <td>0.13280</td>\n",
       "      <td>0.1980</td>\n",
       "      <td>0.10430</td>\n",
       "      <td>0.1809</td>\n",
       "      <td>...</td>\n",
       "      <td>22.54</td>\n",
       "      <td>16.67</td>\n",
       "      <td>152.20</td>\n",
       "      <td>1575.0</td>\n",
       "      <td>0.1374</td>\n",
       "      <td>0.2050</td>\n",
       "      <td>0.4000</td>\n",
       "      <td>0.1625</td>\n",
       "      <td>0.2364</td>\n",
       "      <td>0.07678</td>\n",
       "    </tr>\n",
       "  </tbody>\n",
       "</table>\n",
       "<p>5 rows × 31 columns</p>\n",
       "</div>"
      ],
      "text/plain": [
       "  diagnosis  radius_mean  texture_mean  perimeter_mean  area_mean  \\\n",
       "0         M        17.99         10.38          122.80     1001.0   \n",
       "1         M        20.57         17.77          132.90     1326.0   \n",
       "2         M        19.69         21.25          130.00     1203.0   \n",
       "3         M        11.42         20.38           77.58      386.1   \n",
       "4         M        20.29         14.34          135.10     1297.0   \n",
       "\n",
       "   smoothness_mean  compactness_mean  concavity_mean  concave points_mean  \\\n",
       "0          0.11840           0.27760          0.3001              0.14710   \n",
       "1          0.08474           0.07864          0.0869              0.07017   \n",
       "2          0.10960           0.15990          0.1974              0.12790   \n",
       "3          0.14250           0.28390          0.2414              0.10520   \n",
       "4          0.10030           0.13280          0.1980              0.10430   \n",
       "\n",
       "   symmetry_mean  ...  radius_worst  texture_worst  perimeter_worst  \\\n",
       "0         0.2419  ...         25.38          17.33           184.60   \n",
       "1         0.1812  ...         24.99          23.41           158.80   \n",
       "2         0.2069  ...         23.57          25.53           152.50   \n",
       "3         0.2597  ...         14.91          26.50            98.87   \n",
       "4         0.1809  ...         22.54          16.67           152.20   \n",
       "\n",
       "   area_worst  smoothness_worst  compactness_worst  concavity_worst  \\\n",
       "0      2019.0            0.1622             0.6656           0.7119   \n",
       "1      1956.0            0.1238             0.1866           0.2416   \n",
       "2      1709.0            0.1444             0.4245           0.4504   \n",
       "3       567.7            0.2098             0.8663           0.6869   \n",
       "4      1575.0            0.1374             0.2050           0.4000   \n",
       "\n",
       "   concave points_worst  symmetry_worst  fractal_dimension_worst  \n",
       "0                0.2654          0.4601                  0.11890  \n",
       "1                0.1860          0.2750                  0.08902  \n",
       "2                0.2430          0.3613                  0.08758  \n",
       "3                0.2575          0.6638                  0.17300  \n",
       "4                0.1625          0.2364                  0.07678  \n",
       "\n",
       "[5 rows x 31 columns]"
      ]
     },
     "execution_count": 36,
     "metadata": {
     },
     "output_type": "execute_result"
    }
   ],
   "source": [
    "\n",
    "column_to_drop =[\"Unnamed: 32\",\"id\"]\n",
    "\n",
    "\n",
    "breast_cancer.drop(column_to_drop, axis=1, inplace = True)\n",
    "\n",
    "breast_cancer.head()"
   ]
  },
  {
   "cell_type": "code",
   "execution_count": 0,
   "metadata": {
    "collapsed": false,
    "id": "H7H0OTAhzoKQ"
   },
   "outputs": [
   ],
   "source": [
    "# drop any n/a values remaining! Remember inplace!\n"
   ]
  },
  {
   "cell_type": "code",
   "execution_count": 37,
   "metadata": {
    "collapsed": false,
    "id": "tL-d7BNRzz_V"
   },
   "outputs": [
    {
     "data": {
      "text/html": [
       "<div>\n",
       "<style scoped>\n",
       "    .dataframe tbody tr th:only-of-type {\n",
       "        vertical-align: middle;\n",
       "    }\n",
       "\n",
       "    .dataframe tbody tr th {\n",
       "        vertical-align: top;\n",
       "    }\n",
       "\n",
       "    .dataframe thead th {\n",
       "        text-align: right;\n",
       "    }\n",
       "</style>\n",
       "<table border=\"1\" class=\"dataframe\">\n",
       "  <thead>\n",
       "    <tr style=\"text-align: right;\">\n",
       "      <th></th>\n",
       "      <th>diagnosis</th>\n",
       "      <th>radius_mean</th>\n",
       "      <th>texture_mean</th>\n",
       "      <th>perimeter_mean</th>\n",
       "      <th>area_mean</th>\n",
       "      <th>smoothness_mean</th>\n",
       "      <th>compactness_mean</th>\n",
       "      <th>concavity_mean</th>\n",
       "      <th>concave points_mean</th>\n",
       "      <th>symmetry_mean</th>\n",
       "      <th>...</th>\n",
       "      <th>radius_worst</th>\n",
       "      <th>texture_worst</th>\n",
       "      <th>perimeter_worst</th>\n",
       "      <th>area_worst</th>\n",
       "      <th>smoothness_worst</th>\n",
       "      <th>compactness_worst</th>\n",
       "      <th>concavity_worst</th>\n",
       "      <th>concave points_worst</th>\n",
       "      <th>symmetry_worst</th>\n",
       "      <th>fractal_dimension_worst</th>\n",
       "    </tr>\n",
       "  </thead>\n",
       "  <tbody>\n",
       "    <tr>\n",
       "      <th>564</th>\n",
       "      <td>M</td>\n",
       "      <td>21.56</td>\n",
       "      <td>22.39</td>\n",
       "      <td>142.00</td>\n",
       "      <td>1479.0</td>\n",
       "      <td>0.11100</td>\n",
       "      <td>0.11590</td>\n",
       "      <td>0.24390</td>\n",
       "      <td>0.13890</td>\n",
       "      <td>0.1726</td>\n",
       "      <td>...</td>\n",
       "      <td>25.450</td>\n",
       "      <td>26.40</td>\n",
       "      <td>166.10</td>\n",
       "      <td>2027.0</td>\n",
       "      <td>0.14100</td>\n",
       "      <td>0.21130</td>\n",
       "      <td>0.4107</td>\n",
       "      <td>0.2216</td>\n",
       "      <td>0.2060</td>\n",
       "      <td>0.07115</td>\n",
       "    </tr>\n",
       "    <tr>\n",
       "      <th>565</th>\n",
       "      <td>M</td>\n",
       "      <td>20.13</td>\n",
       "      <td>28.25</td>\n",
       "      <td>131.20</td>\n",
       "      <td>1261.0</td>\n",
       "      <td>0.09780</td>\n",
       "      <td>0.10340</td>\n",
       "      <td>0.14400</td>\n",
       "      <td>0.09791</td>\n",
       "      <td>0.1752</td>\n",
       "      <td>...</td>\n",
       "      <td>23.690</td>\n",
       "      <td>38.25</td>\n",
       "      <td>155.00</td>\n",
       "      <td>1731.0</td>\n",
       "      <td>0.11660</td>\n",
       "      <td>0.19220</td>\n",
       "      <td>0.3215</td>\n",
       "      <td>0.1628</td>\n",
       "      <td>0.2572</td>\n",
       "      <td>0.06637</td>\n",
       "    </tr>\n",
       "    <tr>\n",
       "      <th>566</th>\n",
       "      <td>M</td>\n",
       "      <td>16.60</td>\n",
       "      <td>28.08</td>\n",
       "      <td>108.30</td>\n",
       "      <td>858.1</td>\n",
       "      <td>0.08455</td>\n",
       "      <td>0.10230</td>\n",
       "      <td>0.09251</td>\n",
       "      <td>0.05302</td>\n",
       "      <td>0.1590</td>\n",
       "      <td>...</td>\n",
       "      <td>18.980</td>\n",
       "      <td>34.12</td>\n",
       "      <td>126.70</td>\n",
       "      <td>1124.0</td>\n",
       "      <td>0.11390</td>\n",
       "      <td>0.30940</td>\n",
       "      <td>0.3403</td>\n",
       "      <td>0.1418</td>\n",
       "      <td>0.2218</td>\n",
       "      <td>0.07820</td>\n",
       "    </tr>\n",
       "    <tr>\n",
       "      <th>567</th>\n",
       "      <td>M</td>\n",
       "      <td>20.60</td>\n",
       "      <td>29.33</td>\n",
       "      <td>140.10</td>\n",
       "      <td>1265.0</td>\n",
       "      <td>0.11780</td>\n",
       "      <td>0.27700</td>\n",
       "      <td>0.35140</td>\n",
       "      <td>0.15200</td>\n",
       "      <td>0.2397</td>\n",
       "      <td>...</td>\n",
       "      <td>25.740</td>\n",
       "      <td>39.42</td>\n",
       "      <td>184.60</td>\n",
       "      <td>1821.0</td>\n",
       "      <td>0.16500</td>\n",
       "      <td>0.86810</td>\n",
       "      <td>0.9387</td>\n",
       "      <td>0.2650</td>\n",
       "      <td>0.4087</td>\n",
       "      <td>0.12400</td>\n",
       "    </tr>\n",
       "    <tr>\n",
       "      <th>568</th>\n",
       "      <td>B</td>\n",
       "      <td>7.76</td>\n",
       "      <td>24.54</td>\n",
       "      <td>47.92</td>\n",
       "      <td>181.0</td>\n",
       "      <td>0.05263</td>\n",
       "      <td>0.04362</td>\n",
       "      <td>0.00000</td>\n",
       "      <td>0.00000</td>\n",
       "      <td>0.1587</td>\n",
       "      <td>...</td>\n",
       "      <td>9.456</td>\n",
       "      <td>30.37</td>\n",
       "      <td>59.16</td>\n",
       "      <td>268.6</td>\n",
       "      <td>0.08996</td>\n",
       "      <td>0.06444</td>\n",
       "      <td>0.0000</td>\n",
       "      <td>0.0000</td>\n",
       "      <td>0.2871</td>\n",
       "      <td>0.07039</td>\n",
       "    </tr>\n",
       "  </tbody>\n",
       "</table>\n",
       "<p>5 rows × 31 columns</p>\n",
       "</div>"
      ],
      "text/plain": [
       "    diagnosis  radius_mean  texture_mean  perimeter_mean  area_mean  \\\n",
       "564         M        21.56         22.39          142.00     1479.0   \n",
       "565         M        20.13         28.25          131.20     1261.0   \n",
       "566         M        16.60         28.08          108.30      858.1   \n",
       "567         M        20.60         29.33          140.10     1265.0   \n",
       "568         B         7.76         24.54           47.92      181.0   \n",
       "\n",
       "     smoothness_mean  compactness_mean  concavity_mean  concave points_mean  \\\n",
       "564          0.11100           0.11590         0.24390              0.13890   \n",
       "565          0.09780           0.10340         0.14400              0.09791   \n",
       "566          0.08455           0.10230         0.09251              0.05302   \n",
       "567          0.11780           0.27700         0.35140              0.15200   \n",
       "568          0.05263           0.04362         0.00000              0.00000   \n",
       "\n",
       "     symmetry_mean  ...  radius_worst  texture_worst  perimeter_worst  \\\n",
       "564         0.1726  ...        25.450          26.40           166.10   \n",
       "565         0.1752  ...        23.690          38.25           155.00   \n",
       "566         0.1590  ...        18.980          34.12           126.70   \n",
       "567         0.2397  ...        25.740          39.42           184.60   \n",
       "568         0.1587  ...         9.456          30.37            59.16   \n",
       "\n",
       "     area_worst  smoothness_worst  compactness_worst  concavity_worst  \\\n",
       "564      2027.0           0.14100            0.21130           0.4107   \n",
       "565      1731.0           0.11660            0.19220           0.3215   \n",
       "566      1124.0           0.11390            0.30940           0.3403   \n",
       "567      1821.0           0.16500            0.86810           0.9387   \n",
       "568       268.6           0.08996            0.06444           0.0000   \n",
       "\n",
       "     concave points_worst  symmetry_worst  fractal_dimension_worst  \n",
       "564                0.2216          0.2060                  0.07115  \n",
       "565                0.1628          0.2572                  0.06637  \n",
       "566                0.1418          0.2218                  0.07820  \n",
       "567                0.2650          0.4087                  0.12400  \n",
       "568                0.0000          0.2871                  0.07039  \n",
       "\n",
       "[5 rows x 31 columns]"
      ]
     },
     "execution_count": 37,
     "metadata": {
     },
     "output_type": "execute_result"
    }
   ],
   "source": [
    "# print the last five rows of your dataframe \n",
    "breast_cancer.tail()"
   ]
  },
  {
   "cell_type": "markdown",
   "metadata": {
    "collapsed": false,
    "id": "X1yX_YUAz8ti"
   },
   "source": [
    "**TODO:** at this point, all of our data should be numeric except for our diagnosis column. This is because supervised machine learning models work off of numerical data. Use breast_cancer.info() below to check that all our data besides 'diagnosis' are numeric."
   ]
  },
  {
   "cell_type": "code",
   "execution_count": 38,
   "metadata": {
    "collapsed": false,
    "id": "gAPOpEtcz7U2"
   },
   "outputs": [
    {
     "name": "stdout",
     "output_type": "stream",
     "text": [
      "<class 'pandas.core.frame.DataFrame'>\n",
      "RangeIndex: 569 entries, 0 to 568\n",
      "Data columns (total 31 columns):\n",
      " #   Column                   Non-Null Count  Dtype  \n",
      "---  ------                   --------------  -----  \n",
      " 0   diagnosis                569 non-null    object \n",
      " 1   radius_mean              569 non-null    float64\n",
      " 2   texture_mean             569 non-null    float64\n",
      " 3   perimeter_mean           569 non-null    float64\n",
      " 4   area_mean                569 non-null    float64\n",
      " 5   smoothness_mean          569 non-null    float64\n",
      " 6   compactness_mean         569 non-null    float64\n",
      " 7   concavity_mean           569 non-null    float64\n",
      " 8   concave points_mean      569 non-null    float64\n",
      " 9   symmetry_mean            569 non-null    float64\n",
      " 10  fractal_dimension_mean   569 non-null    float64\n",
      " 11  radius_se                569 non-null    float64\n",
      " 12  texture_se               569 non-null    float64\n",
      " 13  perimeter_se             569 non-null    float64\n",
      " 14  area_se                  569 non-null    float64\n",
      " 15  smoothness_se            569 non-null    float64\n",
      " 16  compactness_se           569 non-null    float64\n",
      " 17  concavity_se             569 non-null    float64\n",
      " 18  concave points_se        569 non-null    float64\n",
      " 19  symmetry_se              569 non-null    float64\n",
      " 20  fractal_dimension_se     569 non-null    float64\n",
      " 21  radius_worst             569 non-null    float64\n",
      " 22  texture_worst            569 non-null    float64\n",
      " 23  perimeter_worst          569 non-null    float64\n",
      " 24  area_worst               569 non-null    float64\n",
      " 25  smoothness_worst         569 non-null    float64\n",
      " 26  compactness_worst        569 non-null    float64\n",
      " 27  concavity_worst          569 non-null    float64\n",
      " 28  concave points_worst     569 non-null    float64\n",
      " 29  symmetry_worst           569 non-null    float64\n",
      " 30  fractal_dimension_worst  569 non-null    float64\n",
      "dtypes: float64(30), object(1)\n",
      "memory usage: 137.9+ KB\n"
     ]
    }
   ],
   "source": [
    "# Run breast_cancer.info()\n",
    "breast_cancer.info()"
   ]
  },
  {
   "cell_type": "markdown",
   "metadata": {
    "collapsed": false,
    "id": "c4ocJucC3-p2"
   },
   "source": [
    "### Dummy Variables - Preprocessing\n",
    "Our target variable (the variable we are trying to predict) is `diagnosis`. Our only problem is that the diagnosis variable will either be an 'M' or a 'B', which is not something our model will understand. We need to change our M's to 1's and B's to 0's so that our model can think like computers do -- using numbers!  \n",
    "\n",
    "To do so, we use something called a dummy variable. I'll show you how to do so below. "
   ]
  },
  {
   "cell_type": "code",
   "execution_count": 0,
   "metadata": {
    "collapsed": false,
    "id": "k2w_QD0e3-WY"
   },
   "outputs": [
   ],
   "source": [
    "dummies = pd.get_dummies(breast_cancer[\"diagnosis\"])\n",
    "dummies.head()"
   ]
  },
  {
   "cell_type": "markdown",
   "metadata": {
    "collapsed": false,
    "id": "YXI5tmDd5CKh"
   },
   "source": [
    "**Ok, we've got our dummy variables. What now?** Now we have to pick one and add it to our dataframe -- we also have to delete the old diagnosis column!"
   ]
  },
  {
   "cell_type": "code",
   "execution_count": 0,
   "metadata": {
    "collapsed": false,
    "id": "QtT1BaBF5M3V"
   },
   "outputs": [
   ],
   "source": [
    "breast_cancer[\"outcome\"] = dummies[\"M\"]\n",
    "breast_cancer.head()"
   ]
  },
  {
   "cell_type": "markdown",
   "metadata": {
    "collapsed": false,
    "id": "kXUk3fFs5VxV"
   },
   "source": [
    "**TODO:** Now that our outcome column is there, we need to remove the diagnosis column that had the bad data, right? Please do so below.\n"
   ]
  },
  {
   "cell_type": "code",
   "execution_count": 40,
   "metadata": {
    "collapsed": false,
    "id": "_e-rGtPu5VIL"
   },
   "outputs": [
    {
     "data": {
      "text/html": [
       "<div>\n",
       "<style scoped>\n",
       "    .dataframe tbody tr th:only-of-type {\n",
       "        vertical-align: middle;\n",
       "    }\n",
       "\n",
       "    .dataframe tbody tr th {\n",
       "        vertical-align: top;\n",
       "    }\n",
       "\n",
       "    .dataframe thead th {\n",
       "        text-align: right;\n",
       "    }\n",
       "</style>\n",
       "<table border=\"1\" class=\"dataframe\">\n",
       "  <thead>\n",
       "    <tr style=\"text-align: right;\">\n",
       "      <th></th>\n",
       "      <th>radius_mean</th>\n",
       "      <th>texture_mean</th>\n",
       "      <th>perimeter_mean</th>\n",
       "      <th>area_mean</th>\n",
       "      <th>smoothness_mean</th>\n",
       "      <th>compactness_mean</th>\n",
       "      <th>concavity_mean</th>\n",
       "      <th>concave points_mean</th>\n",
       "      <th>symmetry_mean</th>\n",
       "      <th>fractal_dimension_mean</th>\n",
       "      <th>...</th>\n",
       "      <th>radius_worst</th>\n",
       "      <th>texture_worst</th>\n",
       "      <th>perimeter_worst</th>\n",
       "      <th>area_worst</th>\n",
       "      <th>smoothness_worst</th>\n",
       "      <th>compactness_worst</th>\n",
       "      <th>concavity_worst</th>\n",
       "      <th>concave points_worst</th>\n",
       "      <th>symmetry_worst</th>\n",
       "      <th>fractal_dimension_worst</th>\n",
       "    </tr>\n",
       "  </thead>\n",
       "  <tbody>\n",
       "    <tr>\n",
       "      <th>0</th>\n",
       "      <td>17.99</td>\n",
       "      <td>10.38</td>\n",
       "      <td>122.80</td>\n",
       "      <td>1001.0</td>\n",
       "      <td>0.11840</td>\n",
       "      <td>0.27760</td>\n",
       "      <td>0.3001</td>\n",
       "      <td>0.14710</td>\n",
       "      <td>0.2419</td>\n",
       "      <td>0.07871</td>\n",
       "      <td>...</td>\n",
       "      <td>25.38</td>\n",
       "      <td>17.33</td>\n",
       "      <td>184.60</td>\n",
       "      <td>2019.0</td>\n",
       "      <td>0.1622</td>\n",
       "      <td>0.6656</td>\n",
       "      <td>0.7119</td>\n",
       "      <td>0.2654</td>\n",
       "      <td>0.4601</td>\n",
       "      <td>0.11890</td>\n",
       "    </tr>\n",
       "    <tr>\n",
       "      <th>1</th>\n",
       "      <td>20.57</td>\n",
       "      <td>17.77</td>\n",
       "      <td>132.90</td>\n",
       "      <td>1326.0</td>\n",
       "      <td>0.08474</td>\n",
       "      <td>0.07864</td>\n",
       "      <td>0.0869</td>\n",
       "      <td>0.07017</td>\n",
       "      <td>0.1812</td>\n",
       "      <td>0.05667</td>\n",
       "      <td>...</td>\n",
       "      <td>24.99</td>\n",
       "      <td>23.41</td>\n",
       "      <td>158.80</td>\n",
       "      <td>1956.0</td>\n",
       "      <td>0.1238</td>\n",
       "      <td>0.1866</td>\n",
       "      <td>0.2416</td>\n",
       "      <td>0.1860</td>\n",
       "      <td>0.2750</td>\n",
       "      <td>0.08902</td>\n",
       "    </tr>\n",
       "    <tr>\n",
       "      <th>2</th>\n",
       "      <td>19.69</td>\n",
       "      <td>21.25</td>\n",
       "      <td>130.00</td>\n",
       "      <td>1203.0</td>\n",
       "      <td>0.10960</td>\n",
       "      <td>0.15990</td>\n",
       "      <td>0.1974</td>\n",
       "      <td>0.12790</td>\n",
       "      <td>0.2069</td>\n",
       "      <td>0.05999</td>\n",
       "      <td>...</td>\n",
       "      <td>23.57</td>\n",
       "      <td>25.53</td>\n",
       "      <td>152.50</td>\n",
       "      <td>1709.0</td>\n",
       "      <td>0.1444</td>\n",
       "      <td>0.4245</td>\n",
       "      <td>0.4504</td>\n",
       "      <td>0.2430</td>\n",
       "      <td>0.3613</td>\n",
       "      <td>0.08758</td>\n",
       "    </tr>\n",
       "    <tr>\n",
       "      <th>3</th>\n",
       "      <td>11.42</td>\n",
       "      <td>20.38</td>\n",
       "      <td>77.58</td>\n",
       "      <td>386.1</td>\n",
       "      <td>0.14250</td>\n",
       "      <td>0.28390</td>\n",
       "      <td>0.2414</td>\n",
       "      <td>0.10520</td>\n",
       "      <td>0.2597</td>\n",
       "      <td>0.09744</td>\n",
       "      <td>...</td>\n",
       "      <td>14.91</td>\n",
       "      <td>26.50</td>\n",
       "      <td>98.87</td>\n",
       "      <td>567.7</td>\n",
       "      <td>0.2098</td>\n",
       "      <td>0.8663</td>\n",
       "      <td>0.6869</td>\n",
       "      <td>0.2575</td>\n",
       "      <td>0.6638</td>\n",
       "      <td>0.17300</td>\n",
       "    </tr>\n",
       "    <tr>\n",
       "      <th>4</th>\n",
       "      <td>20.29</td>\n",
       "      <td>14.34</td>\n",
       "      <td>135.10</td>\n",
       "      <td>1297.0</td>\n",
       "      <td>0.10030</td>\n",
       "      <td>0.13280</td>\n",
       "      <td>0.1980</td>\n",
       "      <td>0.10430</td>\n",
       "      <td>0.1809</td>\n",
       "      <td>0.05883</td>\n",
       "      <td>...</td>\n",
       "      <td>22.54</td>\n",
       "      <td>16.67</td>\n",
       "      <td>152.20</td>\n",
       "      <td>1575.0</td>\n",
       "      <td>0.1374</td>\n",
       "      <td>0.2050</td>\n",
       "      <td>0.4000</td>\n",
       "      <td>0.1625</td>\n",
       "      <td>0.2364</td>\n",
       "      <td>0.07678</td>\n",
       "    </tr>\n",
       "  </tbody>\n",
       "</table>\n",
       "<p>5 rows × 30 columns</p>\n",
       "</div>"
      ],
      "text/plain": [
       "   radius_mean  texture_mean  perimeter_mean  area_mean  smoothness_mean  \\\n",
       "0        17.99         10.38          122.80     1001.0          0.11840   \n",
       "1        20.57         17.77          132.90     1326.0          0.08474   \n",
       "2        19.69         21.25          130.00     1203.0          0.10960   \n",
       "3        11.42         20.38           77.58      386.1          0.14250   \n",
       "4        20.29         14.34          135.10     1297.0          0.10030   \n",
       "\n",
       "   compactness_mean  concavity_mean  concave points_mean  symmetry_mean  \\\n",
       "0           0.27760          0.3001              0.14710         0.2419   \n",
       "1           0.07864          0.0869              0.07017         0.1812   \n",
       "2           0.15990          0.1974              0.12790         0.2069   \n",
       "3           0.28390          0.2414              0.10520         0.2597   \n",
       "4           0.13280          0.1980              0.10430         0.1809   \n",
       "\n",
       "   fractal_dimension_mean  ...  radius_worst  texture_worst  perimeter_worst  \\\n",
       "0                 0.07871  ...         25.38          17.33           184.60   \n",
       "1                 0.05667  ...         24.99          23.41           158.80   \n",
       "2                 0.05999  ...         23.57          25.53           152.50   \n",
       "3                 0.09744  ...         14.91          26.50            98.87   \n",
       "4                 0.05883  ...         22.54          16.67           152.20   \n",
       "\n",
       "   area_worst  smoothness_worst  compactness_worst  concavity_worst  \\\n",
       "0      2019.0            0.1622             0.6656           0.7119   \n",
       "1      1956.0            0.1238             0.1866           0.2416   \n",
       "2      1709.0            0.1444             0.4245           0.4504   \n",
       "3       567.7            0.2098             0.8663           0.6869   \n",
       "4      1575.0            0.1374             0.2050           0.4000   \n",
       "\n",
       "   concave points_worst  symmetry_worst  fractal_dimension_worst  \n",
       "0                0.2654          0.4601                  0.11890  \n",
       "1                0.1860          0.2750                  0.08902  \n",
       "2                0.2430          0.3613                  0.08758  \n",
       "3                0.2575          0.6638                  0.17300  \n",
       "4                0.1625          0.2364                  0.07678  \n",
       "\n",
       "[5 rows x 30 columns]"
      ]
     },
     "execution_count": 40,
     "metadata": {
     },
     "output_type": "execute_result"
    }
   ],
   "source": [
    "#Drop the 'diagnosis' column from your dataframe. Remember to use inplace if you are changing the dataframe itself!\n",
    "column_to_drop =[\"diagnosis\"]\n",
    "\n",
    "\n",
    "breast_cancer.drop(column_to_drop, axis=1, inplace = True)\n",
    "\n",
    "breast_cancer.head()"
   ]
  },
  {
   "cell_type": "markdown",
   "metadata": {
    "collapsed": false,
    "id": "jhMq9yAj3x78"
   },
   "source": [
    "### Visualize our data\n",
    "Now that we've cleaned our data and it is all ready for our model, we should understand some of the relationships. Use your learnings from last week to create two plots -- you can always start with simple [scatter plots](https://plotly.com/python/line-and-scatter/) or maybe a [scatterplot matrix](https://plotly.com/python/splom/). Get creative!"
   ]
  },
  {
   "cell_type": "code",
   "execution_count": 44,
   "metadata": {
    "collapsed": false,
    "id": "QtEadcGS3sP3"
   },
   "outputs": [
   ],
   "source": [
    "import plotly.express as px\n",
    "import numpy\n",
    "import matplotlib.pyplot as plt\n",
    "import seaborn as snsUnamed\n",
    "import histogram as hist"
   ]
  },
  {
   "cell_type": "code",
   "execution_count": 43,
   "metadata": {
    "collapsed": false,
    "id": "zAXnnF9f1Mp-"
   },
   "outputs": [
    {
     "data": {
      "text/plain": [
       "array([[<AxesSubplot:title={'center':'50.41'}>,\n",
       "        <AxesSubplot:title={'center':'54.49'}>,\n",
       "        <AxesSubplot:title={'center':'56.65'}>,\n",
       "        <AxesSubplot:title={'center':'57.17'}>,\n",
       "        <AxesSubplot:title={'center':'57.26'}>,\n",
       "        <AxesSubplot:title={'center':'58.08'}>,\n",
       "        <AxesSubplot:title={'center':'58.36'}>,\n",
       "        <AxesSubplot:title={'center':'59.16'}>,\n",
       "        <AxesSubplot:title={'center':'59.9'}>,\n",
       "        <AxesSubplot:title={'center':'60.9'}>,\n",
       "        <AxesSubplot:title={'center':'62.06'}>,\n",
       "        <AxesSubplot:title={'center':'62.25'}>,\n",
       "        <AxesSubplot:title={'center':'62.56'}>,\n",
       "        <AxesSubplot:title={'center':'62.86'}>,\n",
       "        <AxesSubplot:title={'center':'63.3'}>,\n",
       "        <AxesSubplot:title={'center':'63.34'}>,\n",
       "        <AxesSubplot:title={'center':'64.01'}>,\n",
       "        <AxesSubplot:title={'center':'64.48'}>,\n",
       "        <AxesSubplot:title={'center':'65.13'}>,\n",
       "        <AxesSubplot:title={'center':'65.27'}>,\n",
       "        <AxesSubplot:title={'center':'65.5'}>,\n",
       "        <AxesSubplot:title={'center':'65.59'}>,\n",
       "        <AxesSubplot:title={'center':'65.74'}>],\n",
       "       [<AxesSubplot:title={'center':'66.5'}>,\n",
       "        <AxesSubplot:title={'center':'66.53'}>,\n",
       "        <AxesSubplot:title={'center':'66.61'}>,\n",
       "        <AxesSubplot:title={'center':'67.03'}>,\n",
       "        <AxesSubplot:title={'center':'67.08'}>,\n",
       "        <AxesSubplot:title={'center':'67.84'}>,\n",
       "        <AxesSubplot:title={'center':'67.88'}>,\n",
       "        <AxesSubplot:title={'center':'68.03'}>,\n",
       "        <AxesSubplot:title={'center':'68.09'}>,\n",
       "        <AxesSubplot:title={'center':'68.62'}>,\n",
       "        <AxesSubplot:title={'center':'68.73'}>,\n",
       "        <AxesSubplot:title={'center':'68.81'}>,\n",
       "        <AxesSubplot:title={'center':'69.05'}>,\n",
       "        <AxesSubplot:title={'center':'69.1'}>,\n",
       "        <AxesSubplot:title={'center':'69.35'}>,\n",
       "        <AxesSubplot:title={'center':'69.47'}>,\n",
       "        <AxesSubplot:title={'center':'69.57'}>,\n",
       "        <AxesSubplot:title={'center':'69.86'}>,\n",
       "        <AxesSubplot:title={'center':'69.92'}>,\n",
       "        <AxesSubplot:title={'center':'70.1'}>,\n",
       "        <AxesSubplot:title={'center':'70.76'}>,\n",
       "        <AxesSubplot:title={'center':'70.88'}>,\n",
       "        <AxesSubplot:title={'center':'70.89'}>],\n",
       "       [<AxesSubplot:title={'center':'71.04'}>,\n",
       "        <AxesSubplot:title={'center':'71.08'}>,\n",
       "        <AxesSubplot:title={'center':'71.11'}>,\n",
       "        <AxesSubplot:title={'center':'71.12'}>,\n",
       "        <AxesSubplot:title={'center':'71.25'}>,\n",
       "        <AxesSubplot:title={'center':'71.53'}>,\n",
       "        <AxesSubplot:title={'center':'71.68'}>,\n",
       "        <AxesSubplot:title={'center':'71.79'}>,\n",
       "        <AxesSubplot:title={'center':'71.94'}>,\n",
       "        <AxesSubplot:title={'center':'71.98'}>,\n",
       "        <AxesSubplot:title={'center':'72.01'}>,\n",
       "        <AxesSubplot:title={'center':'72.22'}>,\n",
       "        <AxesSubplot:title={'center':'72.42'}>,\n",
       "        <AxesSubplot:title={'center':'72.62'}>,\n",
       "        <AxesSubplot:title={'center':'73.07'}>,\n",
       "        <AxesSubplot:title={'center':'73.2'}>,\n",
       "        <AxesSubplot:title={'center':'73.23'}>,\n",
       "        <AxesSubplot:title={'center':'73.47'}>,\n",
       "        <AxesSubplot:title={'center':'73.66'}>,\n",
       "        <AxesSubplot:title={'center':'73.68'}>,\n",
       "        <AxesSubplot:title={'center':'74.08'}>,\n",
       "        <AxesSubplot:title={'center':'74.22'}>,\n",
       "        <AxesSubplot:title={'center':'74.32'}>],\n",
       "       [<AxesSubplot:title={'center':'74.35'}>,\n",
       "        <AxesSubplot:title={'center':'75.19'}>,\n",
       "        <AxesSubplot:title={'center':'75.39'}>,\n",
       "        <AxesSubplot:title={'center':'75.4'}>,\n",
       "        <AxesSubplot:title={'center':'75.79'}>,\n",
       "        <AxesSubplot:title={'center':'76.08'}>,\n",
       "        <AxesSubplot:title={'center':'76.25'}>,\n",
       "        <AxesSubplot:title={'center':'76.38'}>,\n",
       "        <AxesSubplot:title={'center':'76.43'}>,\n",
       "        <AxesSubplot:title={'center':'76.51'}>,\n",
       "        <AxesSubplot:title={'center':'76.53'}>,\n",
       "        <AxesSubplot:title={'center':'76.91'}>,\n",
       "        <AxesSubplot:title={'center':'77.37'}>,\n",
       "        <AxesSubplot:title={'center':'77.79'}>,\n",
       "        <AxesSubplot:title={'center':'77.8'}>,\n",
       "        <AxesSubplot:title={'center':'77.98'}>,\n",
       "        <AxesSubplot:title={'center':'78.0'}>,\n",
       "        <AxesSubplot:title={'center':'78.07'}>,\n",
       "        <AxesSubplot:title={'center':'78.27'}>,\n",
       "        <AxesSubplot:title={'center':'78.28'}>,\n",
       "        <AxesSubplot:title={'center':'78.44'}>,\n",
       "        <AxesSubplot:title={'center':'78.78'}>,\n",
       "        <AxesSubplot:title={'center':'79.12'}>],\n",
       "       [<AxesSubplot:title={'center':'79.15'}>,\n",
       "        <AxesSubplot:title={'center':'79.26'}>,\n",
       "        <AxesSubplot:title={'center':'79.29'}>,\n",
       "        <AxesSubplot:title={'center':'79.46'}>,\n",
       "        <AxesSubplot:title={'center':'79.57'}>,\n",
       "        <AxesSubplot:title={'center':'79.62'}>,\n",
       "        <AxesSubplot:title={'center':'79.67'}>,\n",
       "        <AxesSubplot:title={'center':'79.73'}>,\n",
       "        <AxesSubplot:title={'center':'79.76'}>,\n",
       "        <AxesSubplot:title={'center':'79.82'}>,\n",
       "        <AxesSubplot:title={'center':'79.93'}>,\n",
       "        <AxesSubplot:title={'center':'80.78'}>,\n",
       "        <AxesSubplot:title={'center':'80.79'}>,\n",
       "        <AxesSubplot:title={'center':'80.88'}>,\n",
       "        <AxesSubplot:title={'center':'80.92'}>,\n",
       "        <AxesSubplot:title={'center':'81.23'}>,\n",
       "        <AxesSubplot:title={'center':'81.25'}>,\n",
       "        <AxesSubplot:title={'center':'81.39'}>,\n",
       "        <AxesSubplot:title={'center':'81.41'}>,\n",
       "        <AxesSubplot:title={'center':'81.6'}>,\n",
       "        <AxesSubplot:title={'center':'81.76'}>,\n",
       "        <AxesSubplot:title={'center':'81.81'}>,\n",
       "        <AxesSubplot:title={'center':'81.93'}>],\n",
       "       [<AxesSubplot:title={'center':'82.04'}>,\n",
       "        <AxesSubplot:title={'center':'82.08'}>,\n",
       "        <AxesSubplot:title={'center':'82.14'}>,\n",
       "        <AxesSubplot:title={'center':'82.28'}>,\n",
       "        <AxesSubplot:title={'center':'82.66'}>,\n",
       "        <AxesSubplot:title={'center':'82.68'}>,\n",
       "        <AxesSubplot:title={'center':'82.69'}>,\n",
       "        <AxesSubplot:title={'center':'82.74'}>,\n",
       "        <AxesSubplot:title={'center':'82.76'}>,\n",
       "        <AxesSubplot:title={'center':'82.96'}>,\n",
       "        <AxesSubplot:title={'center':'82.98'}>,\n",
       "        <AxesSubplot:title={'center':'83.09'}>,\n",
       "        <AxesSubplot:title={'center':'83.12'}>,\n",
       "        <AxesSubplot:title={'center':'83.24'}>,\n",
       "        <AxesSubplot:title={'center':'83.51'}>,\n",
       "        <AxesSubplot:title={'center':'83.61'}>,\n",
       "        <AxesSubplot:title={'center':'83.67'}>,\n",
       "        <AxesSubplot:title={'center':'83.69'}>,\n",
       "        <AxesSubplot:title={'center':'83.74'}>,\n",
       "        <AxesSubplot:title={'center':'83.85'}>,\n",
       "        <AxesSubplot:title={'center':'83.9'}>,\n",
       "        <AxesSubplot:title={'center':'83.99'}>,\n",
       "        <AxesSubplot:title={'center':'84.08'}>],\n",
       "       [<AxesSubplot:title={'center':'84.11'}>,\n",
       "        <AxesSubplot:title={'center':'84.16'}>,\n",
       "        <AxesSubplot:title={'center':'84.35'}>,\n",
       "        <AxesSubplot:title={'center':'84.42'}>,\n",
       "        <AxesSubplot:title={'center':'84.46'}>,\n",
       "        <AxesSubplot:title={'center':'84.48'}>,\n",
       "        <AxesSubplot:title={'center':'84.53'}>,\n",
       "        <AxesSubplot:title={'center':'84.58'}>,\n",
       "        <AxesSubplot:title={'center':'84.7'}>,\n",
       "        <AxesSubplot:title={'center':'84.93'}>,\n",
       "        <AxesSubplot:title={'center':'85.07'}>,\n",
       "        <AxesSubplot:title={'center':'85.08'}>,\n",
       "        <AxesSubplot:title={'center':'85.09'}>,\n",
       "        <AxesSubplot:title={'center':'85.1'}>,\n",
       "        <AxesSubplot:title={'center':'85.13'}>,\n",
       "        <AxesSubplot:title={'center':'85.22'}>,\n",
       "        <AxesSubplot:title={'center':'85.51'}>,\n",
       "        <AxesSubplot:title={'center':'85.56'}>,\n",
       "        <AxesSubplot:title={'center':'85.67'}>,\n",
       "        <AxesSubplot:title={'center':'86.0'}>,\n",
       "        <AxesSubplot:title={'center':'86.04'}>,\n",
       "        <AxesSubplot:title={'center':'86.12'}>,\n",
       "        <AxesSubplot:title={'center':'86.16'}>],\n",
       "       [<AxesSubplot:title={'center':'86.2'}>,\n",
       "        <AxesSubplot:title={'center':'86.26'}>,\n",
       "        <AxesSubplot:title={'center':'86.43'}>,\n",
       "        <AxesSubplot:title={'center':'86.54'}>,\n",
       "        <AxesSubplot:title={'center':'86.57'}>,\n",
       "        <AxesSubplot:title={'center':'86.6'}>,\n",
       "        <AxesSubplot:title={'center':'86.65'}>,\n",
       "        <AxesSubplot:title={'center':'86.67'}>,\n",
       "        <AxesSubplot:title={'center':'86.7'}>,\n",
       "        <AxesSubplot:title={'center':'86.82'}>,\n",
       "        <AxesSubplot:title={'center':'86.92'}>,\n",
       "        <AxesSubplot:title={'center':'86.97'}>,\n",
       "        <AxesSubplot:title={'center':'87.0'}>,\n",
       "        <AxesSubplot:title={'center':'87.16'}>,\n",
       "        <AxesSubplot:title={'center':'87.22'}>,\n",
       "        <AxesSubplot:title={'center':'87.24'}>,\n",
       "        <AxesSubplot:title={'center':'87.36'}>,\n",
       "        <AxesSubplot:title={'center':'87.38'}>,\n",
       "        <AxesSubplot:title={'center':'87.4'}>,\n",
       "        <AxesSubplot:title={'center':'87.54'}>,\n",
       "        <AxesSubplot:title={'center':'87.64'}>,\n",
       "        <AxesSubplot:title={'center':'87.65'}>,\n",
       "        <AxesSubplot:title={'center':'87.78'}>],\n",
       "       [<AxesSubplot:title={'center':'87.82'}>,\n",
       "        <AxesSubplot:title={'center':'88.1'}>,\n",
       "        <AxesSubplot:title={'center':'88.12'}>,\n",
       "        <AxesSubplot:title={'center':'88.13'}>,\n",
       "        <AxesSubplot:title={'center':'88.14'}>,\n",
       "        <AxesSubplot:title={'center':'88.18'}>,\n",
       "        <AxesSubplot:title={'center':'88.28'}>,\n",
       "        <AxesSubplot:title={'center':'88.33'}>,\n",
       "        <AxesSubplot:title={'center':'88.52'}>,\n",
       "        <AxesSubplot:title={'center':'88.54'}>,\n",
       "        <AxesSubplot:title={'center':'88.7'}>,\n",
       "        <AxesSubplot:title={'center':'88.81'}>,\n",
       "        <AxesSubplot:title={'center':'88.83'}>,\n",
       "        <AxesSubplot:title={'center':'88.84'}>,\n",
       "        <AxesSubplot:title={'center':'88.87'}>,\n",
       "        <AxesSubplot:title={'center':'88.91'}>,\n",
       "        <AxesSubplot:title={'center':'89.0'}>,\n",
       "        <AxesSubplot:title={'center':'89.02'}>,\n",
       "        <AxesSubplot:title={'center':'89.04'}>,\n",
       "        <AxesSubplot:title={'center':'89.27'}>,\n",
       "        <AxesSubplot:title={'center':'89.61'}>,\n",
       "        <AxesSubplot:title={'center':'89.69'}>,\n",
       "        <AxesSubplot:title={'center':'89.71'}>],\n",
       "       [<AxesSubplot:title={'center':'89.88'}>,\n",
       "        <AxesSubplot:title={'center':'90.14'}>,\n",
       "        <AxesSubplot:title={'center':'90.24'}>,\n",
       "        <AxesSubplot:title={'center':'90.67'}>,\n",
       "        <AxesSubplot:title={'center':'90.72'}>,\n",
       "        <AxesSubplot:title={'center':'90.81'}>,\n",
       "        <AxesSubplot:title={'center':'90.82'}>,\n",
       "        <AxesSubplot:title={'center':'91.06'}>,\n",
       "        <AxesSubplot:title={'center':'91.11'}>,\n",
       "        <AxesSubplot:title={'center':'91.29'}>,\n",
       "        <AxesSubplot:title={'center':'91.36'}>,\n",
       "        <AxesSubplot:title={'center':'91.38'}>,\n",
       "        <AxesSubplot:title={'center':'91.46'}>,\n",
       "        <AxesSubplot:title={'center':'91.62'}>,\n",
       "        <AxesSubplot:title={'center':'91.63'}>,\n",
       "        <AxesSubplot:title={'center':'91.76'}>,\n",
       "        <AxesSubplot:title={'center':'91.88'}>,\n",
       "        <AxesSubplot:title={'center':'91.93'}>,\n",
       "        <AxesSubplot:title={'center':'91.99'}>,\n",
       "        <AxesSubplot:title={'center':'92.0'}>,\n",
       "        <AxesSubplot:title={'center':'92.04'}>,\n",
       "        <AxesSubplot:title={'center':'92.12'}>,\n",
       "        <AxesSubplot:title={'center':'92.15'}>],\n",
       "       [<AxesSubplot:title={'center':'92.2'}>,\n",
       "        <AxesSubplot:title={'center':'92.48'}>,\n",
       "        <AxesSubplot:title={'center':'92.74'}>,\n",
       "        <AxesSubplot:title={'center':'92.8'}>,\n",
       "        <AxesSubplot:title={'center':'92.82'}>,\n",
       "        <AxesSubplot:title={'center':'92.94'}>,\n",
       "        <AxesSubplot:title={'center':'93.22'}>,\n",
       "        <AxesSubplot:title={'center':'93.63'}>,\n",
       "        <AxesSubplot:title={'center':'93.76'}>,\n",
       "        <AxesSubplot:title={'center':'93.85'}>,\n",
       "        <AxesSubplot:title={'center':'93.96'}>,\n",
       "        <AxesSubplot:title={'center':'94.11'}>,\n",
       "        <AxesSubplot:title={'center':'94.17'}>,\n",
       "        <AxesSubplot:title={'center':'94.22'}>,\n",
       "        <AxesSubplot:title={'center':'94.44'}>,\n",
       "        <AxesSubplot:title={'center':'94.52'}>,\n",
       "        <AxesSubplot:title={'center':'94.94'}>,\n",
       "        <AxesSubplot:title={'center':'95.1'}>,\n",
       "        <AxesSubplot:title={'center':'95.14'}>,\n",
       "        <AxesSubplot:title={'center':'95.23'}>,\n",
       "        <AxesSubplot:title={'center':'95.29'}>,\n",
       "        <AxesSubplot:title={'center':'95.48'}>,\n",
       "        <AxesSubplot:title={'center':'95.54'}>],\n",
       "       [<AxesSubplot:title={'center':'95.78'}>,\n",
       "        <AxesSubplot:title={'center':'96.05'}>,\n",
       "        <AxesSubplot:title={'center':'96.08'}>,\n",
       "        <AxesSubplot:title={'center':'96.09'}>,\n",
       "        <AxesSubplot:title={'center':'96.31'}>,\n",
       "        <AxesSubplot:title={'center':'96.42'}>,\n",
       "        <AxesSubplot:title={'center':'96.53'}>,\n",
       "        <AxesSubplot:title={'center':'96.59'}>,\n",
       "        <AxesSubplot:title={'center':'96.66'}>,\n",
       "        <AxesSubplot:title={'center':'96.69'}>,\n",
       "        <AxesSubplot:title={'center':'96.74'}>,\n",
       "        <AxesSubplot:title={'center':'97.11'}>,\n",
       "        <AxesSubplot:title={'center':'97.17'}>,\n",
       "        <AxesSubplot:title={'center':'97.19'}>,\n",
       "        <AxesSubplot:title={'center':'97.33'}>,\n",
       "        <AxesSubplot:title={'center':'97.58'}>,\n",
       "        <AxesSubplot:title={'center':'97.59'}>,\n",
       "        <AxesSubplot:title={'center':'97.65'}>,\n",
       "        <AxesSubplot:title={'center':'97.66'}>,\n",
       "        <AxesSubplot:title={'center':'97.67'}>,\n",
       "        <AxesSubplot:title={'center':'97.82'}>,\n",
       "        <AxesSubplot:title={'center':'97.9'}>,\n",
       "        <AxesSubplot:title={'center':'97.96'}>],\n",
       "       [<AxesSubplot:title={'center':'98.0'}>,\n",
       "        <AxesSubplot:title={'center':'98.27'}>,\n",
       "        <AxesSubplot:title={'center':'98.37'}>,\n",
       "        <AxesSubplot:title={'center':'98.4'}>,\n",
       "        <AxesSubplot:title={'center':'98.84'}>,\n",
       "        <AxesSubplot:title={'center':'98.87'}>,\n",
       "        <AxesSubplot:title={'center':'98.91'}>,\n",
       "        <AxesSubplot:title={'center':'99.0'}>,\n",
       "        <AxesSubplot:title={'center':'99.16'}>,\n",
       "        <AxesSubplot:title={'center':'99.17'}>,\n",
       "        <AxesSubplot:title={'center':'99.21'}>,\n",
       "        <AxesSubplot:title={'center':'99.31'}>,\n",
       "        <AxesSubplot:title={'center':'99.43'}>,\n",
       "        <AxesSubplot:title={'center':'99.48'}>,\n",
       "        <AxesSubplot:title={'center':'99.66'}>,\n",
       "        <AxesSubplot:title={'center':'99.7'}>,\n",
       "        <AxesSubplot:title={'center':'99.71'}>,\n",
       "        <AxesSubplot:title={'center':'100.2'}>,\n",
       "        <AxesSubplot:title={'center':'100.3'}>,\n",
       "        <AxesSubplot:title={'center':'100.4'}>,\n",
       "        <AxesSubplot:title={'center':'100.9'}>,\n",
       "        <AxesSubplot:title={'center':'101.1'}>,\n",
       "        <AxesSubplot:title={'center':'101.2'}>],\n",
       "       [<AxesSubplot:title={'center':'101.4'}>,\n",
       "        <AxesSubplot:title={'center':'101.6'}>,\n",
       "        <AxesSubplot:title={'center':'101.7'}>,\n",
       "        <AxesSubplot:title={'center':'101.9'}>,\n",
       "        <AxesSubplot:title={'center':'102.2'}>,\n",
       "        <AxesSubplot:title={'center':'102.3'}>,\n",
       "        <AxesSubplot:title={'center':'102.5'}>,\n",
       "        <AxesSubplot:title={'center':'102.8'}>,\n",
       "        <AxesSubplot:title={'center':'102.9'}>,\n",
       "        <AxesSubplot:title={'center':'103.1'}>,\n",
       "        <AxesSubplot:title={'center':'103.4'}>,\n",
       "        <AxesSubplot:title={'center':'103.7'}>,\n",
       "        <AxesSubplot:title={'center':'103.9'}>,\n",
       "        <AxesSubplot:title={'center':'104.3'}>,\n",
       "        <AxesSubplot:title={'center':'104.4'}>,\n",
       "        <AxesSubplot:title={'center':'104.5'}>,\n",
       "        <AxesSubplot:title={'center':'104.6'}>,\n",
       "        <AxesSubplot:title={'center':'105.0'}>,\n",
       "        <AxesSubplot:title={'center':'105.3'}>,\n",
       "        <AxesSubplot:title={'center':'105.5'}>,\n",
       "        <AxesSubplot:title={'center':'105.8'}>,\n",
       "        <AxesSubplot:title={'center':'105.9'}>,\n",
       "        <AxesSubplot:title={'center':'106.0'}>],\n",
       "       [<AxesSubplot:title={'center':'106.2'}>,\n",
       "        <AxesSubplot:title={'center':'106.4'}>,\n",
       "        <AxesSubplot:title={'center':'107.0'}>,\n",
       "        <AxesSubplot:title={'center':'107.1'}>,\n",
       "        <AxesSubplot:title={'center':'107.3'}>,\n",
       "        <AxesSubplot:title={'center':'107.4'}>,\n",
       "        <AxesSubplot:title={'center':'107.5'}>,\n",
       "        <AxesSubplot:title={'center':'108.1'}>,\n",
       "        <AxesSubplot:title={'center':'108.4'}>,\n",
       "        <AxesSubplot:title={'center':'108.5'}>,\n",
       "        <AxesSubplot:title={'center':'108.6'}>,\n",
       "        <AxesSubplot:title={'center':'108.8'}>,\n",
       "        <AxesSubplot:title={'center':'109.1'}>,\n",
       "        <AxesSubplot:title={'center':'109.4'}>,\n",
       "        <AxesSubplot:title={'center':'109.5'}>,\n",
       "        <AxesSubplot:title={'center':'109.7'}>,\n",
       "        <AxesSubplot:title={'center':'109.8'}>,\n",
       "        <AxesSubplot:title={'center':'110.1'}>,\n",
       "        <AxesSubplot:title={'center':'110.2'}>,\n",
       "        <AxesSubplot:title={'center':'110.3'}>,\n",
       "        <AxesSubplot:title={'center':'110.4'}>,\n",
       "        <AxesSubplot:title={'center':'110.6'}>,\n",
       "        <AxesSubplot:title={'center':'111.4'}>],\n",
       "       [<AxesSubplot:title={'center':'111.6'}>,\n",
       "        <AxesSubplot:title={'center':'111.8'}>,\n",
       "        <AxesSubplot:title={'center':'112.0'}>,\n",
       "        <AxesSubplot:title={'center':'112.1'}>,\n",
       "        <AxesSubplot:title={'center':'112.5'}>,\n",
       "        <AxesSubplot:title={'center':'113.1'}>,\n",
       "        <AxesSubplot:title={'center':'113.2'}>,\n",
       "        <AxesSubplot:title={'center':'113.3'}>,\n",
       "        <AxesSubplot:title={'center':'113.5'}>,\n",
       "        <AxesSubplot:title={'center':'113.7'}>,\n",
       "        <AxesSubplot:title={'center':'113.8'}>,\n",
       "        <AxesSubplot:title={'center':'113.9'}>,\n",
       "        <AxesSubplot:title={'center':'114.1'}>,\n",
       "        <AxesSubplot:title={'center':'114.2'}>,\n",
       "        <AxesSubplot:title={'center':'114.3'}>,\n",
       "        <AxesSubplot:title={'center':'114.6'}>,\n",
       "        <AxesSubplot:title={'center':'115.0'}>,\n",
       "        <AxesSubplot:title={'center':'115.7'}>,\n",
       "        <AxesSubplot:title={'center':'115.9'}>,\n",
       "        <AxesSubplot:title={'center':'116.2'}>,\n",
       "        <AxesSubplot:title={'center':'116.6'}>,\n",
       "        <AxesSubplot:title={'center':'117.2'}>,\n",
       "        <AxesSubplot:title={'center':'117.7'}>],\n",
       "       [<AxesSubplot:title={'center':'117.9'}>,\n",
       "        <AxesSubplot:title={'center':'118.6'}>,\n",
       "        <AxesSubplot:title={'center':'119.1'}>,\n",
       "        <AxesSubplot:title={'center':'119.4'}>,\n",
       "        <AxesSubplot:title={'center':'119.8'}>,\n",
       "        <AxesSubplot:title={'center':'120.3'}>,\n",
       "        <AxesSubplot:title={'center':'120.4'}>,\n",
       "        <AxesSubplot:title={'center':'121.2'}>,\n",
       "        <AxesSubplot:title={'center':'121.4'}>,\n",
       "        <AxesSubplot:title={'center':'122.1'}>,\n",
       "        <AxesSubplot:title={'center':'122.4'}>,\n",
       "        <AxesSubplot:title={'center':'123.4'}>,\n",
       "        <AxesSubplot:title={'center':'123.5'}>,\n",
       "        <AxesSubplot:title={'center':'123.8'}>,\n",
       "        <AxesSubplot:title={'center':'124.1'}>,\n",
       "        <AxesSubplot:title={'center':'124.3'}>,\n",
       "        <AxesSubplot:title={'center':'124.9'}>,\n",
       "        <AxesSubplot:title={'center':'125.0'}>,\n",
       "        <AxesSubplot:title={'center':'125.1'}>,\n",
       "        <AxesSubplot:title={'center':'125.4'}>,\n",
       "        <AxesSubplot:title={'center':'125.9'}>,\n",
       "        <AxesSubplot:title={'center':'126.3'}>,\n",
       "        <AxesSubplot:title={'center':'126.7'}>],\n",
       "       [<AxesSubplot:title={'center':'126.9'}>,\n",
       "        <AxesSubplot:title={'center':'127.1'}>,\n",
       "        <AxesSubplot:title={'center':'127.3'}>,\n",
       "        <AxesSubplot:title={'center':'128.2'}>,\n",
       "        <AxesSubplot:title={'center':'128.5'}>,\n",
       "        <AxesSubplot:title={'center':'128.7'}>,\n",
       "        <AxesSubplot:title={'center':'128.8'}>,\n",
       "        <AxesSubplot:title={'center':'129.0'}>,\n",
       "        <AxesSubplot:title={'center':'129.1'}>,\n",
       "        <AxesSubplot:title={'center':'129.2'}>,\n",
       "        <AxesSubplot:title={'center':'129.3'}>,\n",
       "        <AxesSubplot:title={'center':'129.7'}>,\n",
       "        <AxesSubplot:title={'center':'129.8'}>,\n",
       "        <AxesSubplot:title={'center':'130.0'}>,\n",
       "        <AxesSubplot:title={'center':'130.3'}>,\n",
       "        <AxesSubplot:title={'center':'130.7'}>,\n",
       "        <AxesSubplot:title={'center':'130.9'}>,\n",
       "        <AxesSubplot:title={'center':'132.7'}>,\n",
       "        <AxesSubplot:title={'center':'132.8'}>,\n",
       "        <AxesSubplot:title={'center':'132.9'}>,\n",
       "        <AxesSubplot:title={'center':'133.3'}>,\n",
       "        <AxesSubplot:title={'center':'133.5'}>,\n",
       "        <AxesSubplot:title={'center':'134.9'}>],\n",
       "       [<AxesSubplot:title={'center':'135.1'}>,\n",
       "        <AxesSubplot:title={'center':'136.1'}>,\n",
       "        <AxesSubplot:title={'center':'136.5'}>,\n",
       "        <AxesSubplot:title={'center':'136.8'}>,\n",
       "        <AxesSubplot:title={'center':'137.9'}>,\n",
       "        <AxesSubplot:title={'center':'138.1'}>,\n",
       "        <AxesSubplot:title={'center':'139.2'}>,\n",
       "        <AxesSubplot:title={'center':'139.5'}>,\n",
       "        <AxesSubplot:title={'center':'139.8'}>,\n",
       "        <AxesSubplot:title={'center':'139.9'}>,\n",
       "        <AxesSubplot:title={'center':'140.5'}>,\n",
       "        <AxesSubplot:title={'center':'140.9'}>,\n",
       "        <AxesSubplot:title={'center':'141.2'}>,\n",
       "        <AxesSubplot:title={'center':'141.3'}>,\n",
       "        <AxesSubplot:title={'center':'142.0'}>,\n",
       "        <AxesSubplot:title={'center':'142.1'}>,\n",
       "        <AxesSubplot:title={'center':'142.2'}>,\n",
       "        <AxesSubplot:title={'center':'143.2'}>,\n",
       "        <AxesSubplot:title={'center':'143.4'}>,\n",
       "        <AxesSubplot:title={'center':'143.6'}>,\n",
       "        <AxesSubplot:title={'center':'143.7'}>,\n",
       "        <AxesSubplot:title={'center':'144.9'}>,\n",
       "        <AxesSubplot:title={'center':'145.3'}>],\n",
       "       [<AxesSubplot:title={'center':'145.4'}>,\n",
       "        <AxesSubplot:title={'center':'145.6'}>,\n",
       "        <AxesSubplot:title={'center':'146.0'}>,\n",
       "        <AxesSubplot:title={'center':'146.4'}>,\n",
       "        <AxesSubplot:title={'center':'146.6'}>,\n",
       "        <AxesSubplot:title={'center':'148.2'}>,\n",
       "        <AxesSubplot:title={'center':'148.7'}>,\n",
       "        <AxesSubplot:title={'center':'149.3'}>,\n",
       "        <AxesSubplot:title={'center':'149.6'}>,\n",
       "        <AxesSubplot:title={'center':'150.1'}>,\n",
       "        <AxesSubplot:title={'center':'150.2'}>,\n",
       "        <AxesSubplot:title={'center':'150.6'}>,\n",
       "        <AxesSubplot:title={'center':'151.6'}>,\n",
       "        <AxesSubplot:title={'center':'151.7'}>,\n",
       "        <AxesSubplot:title={'center':'152.0'}>,\n",
       "        <AxesSubplot:title={'center':'152.1'}>,\n",
       "        <AxesSubplot:title={'center':'152.2'}>,\n",
       "        <AxesSubplot:title={'center':'152.4'}>,\n",
       "        <AxesSubplot:title={'center':'152.5'}>,\n",
       "        <AxesSubplot:title={'center':'152.9'}>,\n",
       "        <AxesSubplot:title={'center':'153.2'}>,\n",
       "        <AxesSubplot:title={'center':'153.9'}>,\n",
       "        <AxesSubplot:title={'center':'155.0'}>],\n",
       "       [<AxesSubplot:title={'center':'155.3'}>,\n",
       "        <AxesSubplot:title={'center':'156.1'}>,\n",
       "        <AxesSubplot:title={'center':'157.1'}>,\n",
       "        <AxesSubplot:title={'center':'157.6'}>,\n",
       "        <AxesSubplot:title={'center':'158.3'}>,\n",
       "        <AxesSubplot:title={'center':'158.8'}>,\n",
       "        <AxesSubplot:title={'center':'159.8'}>,\n",
       "        <AxesSubplot:title={'center':'160.0'}>,\n",
       "        <AxesSubplot:title={'center':'160.2'}>,\n",
       "        <AxesSubplot:title={'center':'160.5'}>,\n",
       "        <AxesSubplot:title={'center':'161.1'}>,\n",
       "        <AxesSubplot:title={'center':'161.2'}>,\n",
       "        <AxesSubplot:title={'center':'161.4'}>,\n",
       "        <AxesSubplot:title={'center':'161.7'}>,\n",
       "        <AxesSubplot:title={'center':'162.3'}>,\n",
       "        <AxesSubplot:title={'center':'162.7'}>,\n",
       "        <AxesSubplot:title={'center':'163.1'}>,\n",
       "        <AxesSubplot:title={'center':'163.2'}>,\n",
       "        <AxesSubplot:title={'center':'165.3'}>,\n",
       "        <AxesSubplot:title={'center':'165.9'}>,\n",
       "        <AxesSubplot:title={'center':'166.1'}>,\n",
       "        <AxesSubplot:title={'center':'166.4'}>,\n",
       "        <AxesSubplot:title={'center':'166.8'}>],\n",
       "       [<AxesSubplot:title={'center':'168.2'}>,\n",
       "        <AxesSubplot:title={'center':'170.1'}>,\n",
       "        <AxesSubplot:title={'center':'170.3'}>,\n",
       "        <AxesSubplot:title={'center':'171.1'}>,\n",
       "        <AxesSubplot:title={'center':'172.0'}>,\n",
       "        <AxesSubplot:title={'center':'174.9'}>,\n",
       "        <AxesSubplot:title={'center':'176.5'}>,\n",
       "        <AxesSubplot:title={'center':'177.0'}>,\n",
       "        <AxesSubplot:title={'center':'177.4'}>,\n",
       "        <AxesSubplot:title={'center':'178.6'}>,\n",
       "        <AxesSubplot:title={'center':'179.1'}>,\n",
       "        <AxesSubplot:title={'center':'180.2'}>,\n",
       "        <AxesSubplot:title={'center':'180.9'}>,\n",
       "        <AxesSubplot:title={'center':'184.2'}>,\n",
       "        <AxesSubplot:title={'center':'184.6'}>,\n",
       "        <AxesSubplot:title={'center':'186.8'}>,\n",
       "        <AxesSubplot:title={'center':'188.0'}>,\n",
       "        <AxesSubplot:title={'center':'188.5'}>,\n",
       "        <AxesSubplot:title={'center':'195.0'}>,\n",
       "        <AxesSubplot:title={'center':'195.9'}>,\n",
       "        <AxesSubplot:title={'center':'199.5'}>,\n",
       "        <AxesSubplot:title={'center':'202.4'}>,\n",
       "        <AxesSubplot:title={'center':'205.7'}>],\n",
       "       [<AxesSubplot:title={'center':'206.0'}>,\n",
       "        <AxesSubplot:title={'center':'206.8'}>,\n",
       "        <AxesSubplot:title={'center':'211.5'}>,\n",
       "        <AxesSubplot:title={'center':'211.7'}>,\n",
       "        <AxesSubplot:title={'center':'214.0'}>,\n",
       "        <AxesSubplot:title={'center':'220.8'}>,\n",
       "        <AxesSubplot:title={'center':'229.3'}>,\n",
       "        <AxesSubplot:title={'center':'251.2'}>, <AxesSubplot:>,\n",
       "        <AxesSubplot:>, <AxesSubplot:>, <AxesSubplot:>, <AxesSubplot:>,\n",
       "        <AxesSubplot:>, <AxesSubplot:>, <AxesSubplot:>, <AxesSubplot:>,\n",
       "        <AxesSubplot:>, <AxesSubplot:>, <AxesSubplot:>, <AxesSubplot:>,\n",
       "        <AxesSubplot:>, <AxesSubplot:>]], dtype=object)"
      ]
     },
     "execution_count": 43,
     "metadata": {
     },
     "output_type": "execute_result"
    },
    {
     "data": {
      "image/png": "[encoded data removed]",
      "text/plain": [
       "<Figure size 432x288 with 529 Axes>"
      ]
     },
     "execution_count": 43,
     "metadata": {
      "needs_background": "light"
     },
     "output_type": "execute_result"
    }
   ],
   "source": [
    "# Visualization 1 here\n",
    "breast_cancer.hist(by=breast_cancer[\"perimeter_worst\"])"
   ]
  },
  {
   "cell_type": "code",
   "execution_count": 45,
   "metadata": {
    "collapsed": false,
    "id": "oQXBTNye681E"
   },
   "outputs": [
    {
     "data": {
      "text/plain": [
       "<AxesSubplot:xlabel='concavity_mean', ylabel='radius_mean'>"
      ]
     },
     "execution_count": 45,
     "metadata": {
     },
     "output_type": "execute_result"
    },
    {
     "data": {
      "image/png": "[encoded data removed]",
      "text/plain": [
       "<Figure size 432x288 with 1 Axes>"
      ]
     },
     "execution_count": 45,
     "metadata": {
      "needs_background": "light"
     },
     "output_type": "execute_result"
    }
   ],
   "source": [
    "# Visualization 2 here\n",
    "import matplotlib.pyplot as plt\n",
    "breast_cancer.plot.scatter(x=\"concavity_mean\", y= \"radius_mean\")\n",
    "\n"
   ]
  },
  {
   "cell_type": "markdown",
   "metadata": {
    "collapsed": false,
    "id": "EvyKXnr27SaE"
   },
   "source": [
    "### Are you ready to perform machine learning? \n",
    "Do you think deciding whether a tumor is benign or malignant is classification or regression? Talk with your team for a minute.\n",
    "\n",
    "Either way, we need to tell our code what our target variable is, and what our input is going to be. <br> **TODO:** Can you do so below?"
   ]
  },
  {
   "cell_type": "code",
   "execution_count": 46,
   "metadata": {
    "collapsed": false,
    "id": "tZOfTkVx8w2K"
   },
   "outputs": [
    {
     "ename": "KeyError",
     "evalue": "'outcome'",
     "output_type": "error",
     "traceback": [
      "\u001b[0;31m---------------------------------------------------------------------------\u001b[0m",
      "\u001b[0;31mKeyError\u001b[0m                                  Traceback (most recent call last)",
      "File \u001b[0;32m~/miniconda3/envs/ds_env/lib/python3.8/site-packages/pandas/core/indexes/base.py:3621\u001b[0m, in \u001b[0;36mIndex.get_loc\u001b[0;34m(self, key, method, tolerance)\u001b[0m\n\u001b[1;32m   3620\u001b[0m \u001b[38;5;28;01mtry\u001b[39;00m:\n\u001b[0;32m-> 3621\u001b[0m     \u001b[38;5;28;01mreturn\u001b[39;00m \u001b[38;5;28;43mself\u001b[39;49m\u001b[38;5;241;43m.\u001b[39;49m\u001b[43m_engine\u001b[49m\u001b[38;5;241;43m.\u001b[39;49m\u001b[43mget_loc\u001b[49m\u001b[43m(\u001b[49m\u001b[43mcasted_key\u001b[49m\u001b[43m)\u001b[49m\n\u001b[1;32m   3622\u001b[0m \u001b[38;5;28;01mexcept\u001b[39;00m \u001b[38;5;167;01mKeyError\u001b[39;00m \u001b[38;5;28;01mas\u001b[39;00m err:\n",
      "File \u001b[0;32m~/miniconda3/envs/ds_env/lib/python3.8/site-packages/pandas/_libs/index.pyx:136\u001b[0m, in \u001b[0;36mpandas._libs.index.IndexEngine.get_loc\u001b[0;34m()\u001b[0m\n",
      "File \u001b[0;32m~/miniconda3/envs/ds_env/lib/python3.8/site-packages/pandas/_libs/index.pyx:163\u001b[0m, in \u001b[0;36mpandas._libs.index.IndexEngine.get_loc\u001b[0;34m()\u001b[0m\n",
      "File \u001b[0;32mpandas/_libs/hashtable_class_helper.pxi:5198\u001b[0m, in \u001b[0;36mpandas._libs.hashtable.PyObjectHashTable.get_item\u001b[0;34m()\u001b[0m\n",
      "File \u001b[0;32mpandas/_libs/hashtable_class_helper.pxi:5206\u001b[0m, in \u001b[0;36mpandas._libs.hashtable.PyObjectHashTable.get_item\u001b[0;34m()\u001b[0m\n",
      "\u001b[0;31mKeyError\u001b[0m: 'outcome'",
      "\nThe above exception was the direct cause of the following exception:\n",
      "\u001b[0;31mKeyError\u001b[0m                                  Traceback (most recent call last)",
      "Input \u001b[0;32mIn [46]\u001b[0m, in \u001b[0;36m<cell line: 2>\u001b[0;34m()\u001b[0m\n\u001b[1;32m      1\u001b[0m \u001b[38;5;66;03m# Create a variable named target and set it equal to the [\"outcome\"] column in our breast_cancer dataframe.\u001b[39;00m\n\u001b[0;32m----> 2\u001b[0m target \u001b[38;5;241m=\u001b[39m\u001b[43mbreast_cancer\u001b[49m\u001b[43m[\u001b[49m\u001b[38;5;124;43m\"\u001b[39;49m\u001b[38;5;124;43moutcome\u001b[39;49m\u001b[38;5;124;43m\"\u001b[39;49m\u001b[43m]\u001b[49m\n",
      "File \u001b[0;32m~/miniconda3/envs/ds_env/lib/python3.8/site-packages/pandas/core/frame.py:3505\u001b[0m, in \u001b[0;36mDataFrame.__getitem__\u001b[0;34m(self, key)\u001b[0m\n\u001b[1;32m   3503\u001b[0m \u001b[38;5;28;01mif\u001b[39;00m \u001b[38;5;28mself\u001b[39m\u001b[38;5;241m.\u001b[39mcolumns\u001b[38;5;241m.\u001b[39mnlevels \u001b[38;5;241m>\u001b[39m \u001b[38;5;241m1\u001b[39m:\n\u001b[1;32m   3504\u001b[0m     \u001b[38;5;28;01mreturn\u001b[39;00m \u001b[38;5;28mself\u001b[39m\u001b[38;5;241m.\u001b[39m_getitem_multilevel(key)\n\u001b[0;32m-> 3505\u001b[0m indexer \u001b[38;5;241m=\u001b[39m \u001b[38;5;28;43mself\u001b[39;49m\u001b[38;5;241;43m.\u001b[39;49m\u001b[43mcolumns\u001b[49m\u001b[38;5;241;43m.\u001b[39;49m\u001b[43mget_loc\u001b[49m\u001b[43m(\u001b[49m\u001b[43mkey\u001b[49m\u001b[43m)\u001b[49m\n\u001b[1;32m   3506\u001b[0m \u001b[38;5;28;01mif\u001b[39;00m is_integer(indexer):\n\u001b[1;32m   3507\u001b[0m     indexer \u001b[38;5;241m=\u001b[39m [indexer]\n",
      "File \u001b[0;32m~/miniconda3/envs/ds_env/lib/python3.8/site-packages/pandas/core/indexes/base.py:3623\u001b[0m, in \u001b[0;36mIndex.get_loc\u001b[0;34m(self, key, method, tolerance)\u001b[0m\n\u001b[1;32m   3621\u001b[0m     \u001b[38;5;28;01mreturn\u001b[39;00m \u001b[38;5;28mself\u001b[39m\u001b[38;5;241m.\u001b[39m_engine\u001b[38;5;241m.\u001b[39mget_loc(casted_key)\n\u001b[1;32m   3622\u001b[0m \u001b[38;5;28;01mexcept\u001b[39;00m \u001b[38;5;167;01mKeyError\u001b[39;00m \u001b[38;5;28;01mas\u001b[39;00m err:\n\u001b[0;32m-> 3623\u001b[0m     \u001b[38;5;28;01mraise\u001b[39;00m \u001b[38;5;167;01mKeyError\u001b[39;00m(key) \u001b[38;5;28;01mfrom\u001b[39;00m \u001b[38;5;21;01merr\u001b[39;00m\n\u001b[1;32m   3624\u001b[0m \u001b[38;5;28;01mexcept\u001b[39;00m \u001b[38;5;167;01mTypeError\u001b[39;00m:\n\u001b[1;32m   3625\u001b[0m     \u001b[38;5;66;03m# If we have a listlike key, _check_indexing_error will raise\u001b[39;00m\n\u001b[1;32m   3626\u001b[0m     \u001b[38;5;66;03m#  InvalidIndexError. Otherwise we fall through and re-raise\u001b[39;00m\n\u001b[1;32m   3627\u001b[0m     \u001b[38;5;66;03m#  the TypeError.\u001b[39;00m\n\u001b[1;32m   3628\u001b[0m     \u001b[38;5;28mself\u001b[39m\u001b[38;5;241m.\u001b[39m_check_indexing_error(key)\n",
      "\u001b[0;31mKeyError\u001b[0m: 'outcome'"
     ]
    }
   ],
   "source": [
    "# Create a variable named target and set it equal to the [\"outcome\"] column in our breast_cancer dataframe.\n",
    "target =breast_cancer[\"outcome\"]"
   ]
  },
  {
   "cell_type": "code",
   "execution_count": 0,
   "metadata": {
    "collapsed": false,
    "id": "X6wHkQax9chF"
   },
   "outputs": [
   ],
   "source": [
    "# Create a variable named input_columns and set it equal to breast_cancer.loc[:, breast_cancer.columns != \"outcome\"]. This means our inputs are every single column except for column!\n"
   ]
  },
  {
   "cell_type": "markdown",
   "metadata": {
    "collapsed": false,
    "id": "TsxggVkp81js"
   },
   "source": [
    "### Splitting the Data\n",
    "\n",
    "For every single supervised machine learning problem, we will follow the same flow with `sklearn`:\n",
    "\n",
    "> *Split, Fit, Predict, and Evaluate.*\n",
    "\n",
    "What is first? Splitting our data into training and testing sets. You can watch a video on why we do that [in the first 36 seconds of this video](https://www.youtube.com/watch?v=_vdMKioCXqQ). \n",
    "\n",
    "We will split our data using the [`train_test_split()`](https://scikit-learn.org/stable/modules/generated/sklearn.model_selection.train_test_split.html) function on `sklearn` using the same flow as this tutorial: https://realpython.com/train-test-split-python-data/#application-of-train_test_split. The code to do so is below. "
   ]
  },
  {
   "cell_type": "code",
   "execution_count": 0,
   "metadata": {
    "collapsed": false,
    "id": "9I03IMDT8tdn"
   },
   "outputs": [
   ],
   "source": [
    "import sklearn\n",
    "from sklearn.model_selection import train_test_split\n",
    "\n",
    "x_train, x_test, y_train, y_test = train_test_split(input_columns, target, test_size=0.2)"
   ]
  },
  {
   "cell_type": "markdown",
   "metadata": {
    "collapsed": false,
    "id": "rcQ-PJQF9XSA"
   },
   "source": [
    "**TODO:** can you look at the shape of the x_train, x_test, y_train, and y_test columns? Why does the shape of these columns make sense? "
   ]
  },
  {
   "cell_type": "code",
   "execution_count": 0,
   "metadata": {
    "collapsed": false,
    "id": "Ok87vW5k-GTS"
   },
   "outputs": [
   ],
   "source": [
    "#hint: start with x_train.shape\n"
   ]
  },
  {
   "cell_type": "markdown",
   "metadata": {
    "collapsed": false,
    "id": "tY5UwAsS9sCV"
   },
   "source": [
    "**TODO:** Can you print the outputs with print(y_train) and print(y_test)? What do these 1's and 0's represent?"
   ]
  },
  {
   "cell_type": "code",
   "execution_count": 0,
   "metadata": {
    "collapsed": false,
    "id": "4wMcDBPW9n3C"
   },
   "outputs": [
   ],
   "source": [
    "#print outputs\n"
   ]
  },
  {
   "cell_type": "markdown",
   "metadata": {
    "collapsed": false,
    "id": "2lWxo646-Fka"
   },
   "source": [
    "### We have split, now we gotta fit!\n",
    "Now that are data is preprocessed (all numerical), and split (80/20 train/test) for machine learning, we can create a model to **classify** whether a patient has malignant (1) or benign (0) breast cancer!\n",
    "\n",
    "The first model is a classification model called K Nearest Neighbors. You can watch a video on how K Nearest Neighbors works here: https://www.youtube.com/watch?v=0p0o5cmgLdE.\n",
    "\n",
    "First things first, we need to import our model using SKLearn. You can follow the [guide]( https://scikit-learn.org/stable/auto_examples/neighbors/plot_classification.html#sphx-glr-auto-examples-neighbors-plot-classification-py) here to see how this tutorial works.\n"
   ]
  },
  {
   "cell_type": "code",
   "execution_count": 0,
   "metadata": {
    "collapsed": false,
    "id": "RDDyWqva92IH"
   },
   "outputs": [
   ],
   "source": [
    "import sklearn #our favorite machine learning library\n",
    "from sklearn.neighbors import KNeighborsClassifier as KNN #this will import our model as KNN"
   ]
  },
  {
   "cell_type": "markdown",
   "metadata": {
    "collapsed": false,
    "id": "tv1P3go2_U5O"
   },
   "source": [
    "**Creating the model object:**  we need to create an instance of the model. This is like having a model and giving it a nickname so we can remember it, change it, and save it to work custom on our dataset. "
   ]
  },
  {
   "cell_type": "code",
   "execution_count": 0,
   "metadata": {
    "collapsed": false,
    "id": "GzCrGDYI-4FR"
   },
   "outputs": [
   ],
   "source": [
    "# Creating the KNN model object -- we need to tell it the number of neighbors to look at.\n",
    "k = 7 #number of neighbors to look at (look at 7 nearest neighbors)\n",
    "my_KNN_model = KNN(n_neighbors=k)"
   ]
  },
  {
   "cell_type": "markdown",
   "metadata": {
    "collapsed": false,
    "id": "IzQ8yZj5Q0Eg"
   },
   "source": [
    "And there you have it. We have a K Nearest Neighbors model that will look at the 7 nearest neighbors, and gave it a nice nickname, my_KNN_model. <br> <br>\n",
    "\n",
    "**Fitting (Training) the model object:** **Supervised machine learning** training involves learning from past results (`y_train`) and past inputs (`x_train`). We pass these to our model for learning to teach our model to answer the question \"*based on these inputs, what outputs can we expect?*\"\n",
    "<br>\n",
    "\n",
    "To do this, we want to let this model learn from our data. We do so by running our model object's `.fit()` function on our training data."
   ]
  },
  {
   "cell_type": "code",
   "execution_count": 0,
   "metadata": {
    "collapsed": false,
    "id": "VseIx97TSHQP"
   },
   "outputs": [
   ],
   "source": [
    "my_KNN_model.fit(x_train, y_train) #train the model on our past results x_train (inputs) and y_train (outputs)"
   ]
  },
  {
   "cell_type": "markdown",
   "metadata": {
    "collapsed": false,
    "id": "qRJKWrA6hhdf"
   },
   "source": [
    "**Prediction and Evaluation:** How do we know if our model is actually good? We need to **test** our model by giving it a two-step quiz. \n",
    "\n",
    "Step 1: We let our model use our testing inputs (`x_test`) to make predictions that guess the whether the patient has benign or malignant tumors (we call these predictions `y_hat`). In this case our `y_hat`'s are a bunch of 1's and 0's that represent whether our model thinks the patient's tumor is benign or malignant. \n",
    "\n",
    "We do this by running our model object's `.predict()` function."
   ]
  },
  {
   "cell_type": "code",
   "execution_count": 0,
   "metadata": {
    "collapsed": false,
    "id": "CVBaqGOIiEfP"
   },
   "outputs": [
   ],
   "source": [
    "#make some predictions based on your testing inputs (x_test) using the predict() function\n",
    "y_hat = my_KNN_model.predict(x_test)"
   ]
  },
  {
   "cell_type": "code",
   "execution_count": 0,
   "metadata": {
    "collapsed": false,
    "id": "T-ifi-bGj7fx"
   },
   "outputs": [
   ],
   "source": [
    "y_hat #these are our predictions for our x_test inputs. "
   ]
  },
  {
   "cell_type": "code",
   "execution_count": 0,
   "metadata": {
    "collapsed": false,
    "id": "TjLu8V3bj8_F"
   },
   "outputs": [
   ],
   "source": [
    "np.array(y_test) #these are what actually happened for our x_test inputs. Do you see some differences?"
   ]
  },
  {
   "cell_type": "markdown",
   "metadata": {
    "collapsed": false,
    "id": "SbywAxezkRN8"
   },
   "source": [
    "Step 2 - Evaluation: Here we want to compare `y_hat` to `y_test`. Discuss with your team about why we should do this. \n",
    "\n",
    "One we we can compare them is visual inspection. With that said, would you recommend going through by hand and making a tally for every time the one's and zero's don't match up?\n",
    "\n",
    "Please don't do this. Please save yourself this nasty headache when we can just do math. Below is a common way to do this, called mean squared error. \n",
    "\n",
    "To get mean squared error, we compute the difference between each element in `y_hat` and `y_test` and square it and then get the average of all of that to see how far off we are."
   ]
  },
  {
   "cell_type": "code",
   "execution_count": 0,
   "metadata": {
    "collapsed": false,
    "id": "eLFffHy1kFBh"
   },
   "outputs": [
   ],
   "source": [
    "total_squared_error = (np.sum((y_test - y_hat)**2)) #get the sum of all the errors (error = what we want (y_test) - what we predicted (y_hat))\n",
    "mean_squared_error = total_squared_error/len(y_test) #divide this by how many rows/observations we have \n",
    "print(mean_squared_error)"
   ]
  },
  {
   "cell_type": "markdown",
   "metadata": {
    "collapsed": false,
    "id": "bYj4HCmOmH42"
   },
   "source": [
    "**Not too bad!** MSE represents  the average error (difference) between our model and the correct result. A low mean squared error means that our model makes the correct guess most of the time. \n",
    "\n",
    "But we have to think about the nature of the problem. As Data Scientists, do we want to tell someone that we have this average error when we are predicting something as serious as breast cancer? \n",
    "\n",
    "And what does an error mean? Are we telling them they don't have a malignant tumor (y_hat=0) when they actually do (y_test = 1)? Are we telling them they have a tumor (y_hat=1) when they actually don't (y_test = 0)?\n",
    "\n",
    "We can get insights on this through a confusion matrix. "
   ]
  },
  {
   "cell_type": "code",
   "execution_count": 0,
   "metadata": {
    "collapsed": false,
    "id": "WCZLL1wZnfTn"
   },
   "outputs": [
   ],
   "source": [
    "from sklearn.metrics import confusion_matrix\n",
    "import seaborn as sns\n",
    "sns.heatmap(confusion_matrix(y_test, y_hat), annot=True, fmt='g')"
   ]
  },
  {
   "cell_type": "markdown",
   "metadata": {
    "collapsed": false,
    "id": "mCR5MW5gp0ni"
   },
   "source": [
    "**What is this???** I encourage you and your team to read about it here: https://towardsdatascience.com/understanding-confusion-matrix-a9ad42dcfd62. You should define what true positives, true negatives, false positives, and false negatives represent for this scenario. \n",
    "\n",
    "Discuss what other  findings you can take away, and talk with your instructor about metrics like accuracy, precision and recall!"
   ]
  },
  {
   "cell_type": "markdown",
   "metadata": {
    "collapsed": false,
    "id": "tbo3cueVq7EV"
   },
   "source": [
    "**The last step!!** We need to change parameters and data to improve our model as we go. If we can make even 1 more correct cancer prediction, it is worth it, right? \n",
    "\n",
    "**TODO:** Go back and change the value of `k` in the **creating your model object** section and re-run all the code below it. See what changes with your MSE and confusion matrix!"
   ]
  },
  {
   "cell_type": "markdown",
   "metadata": {
    "collapsed": false,
    "id": "ObvQ_3pPmPBf"
   },
   "source": [
    "### Code Your Own Machine Learning Model\n",
    "\n",
    "It's time for us to create our own classifier. Let's go with an [SVM](https://www.youtube.com/watch?v=_YPScrckx28). We will do the first step for you.\n",
    "\n",
    "I know it was a lot of information in the last section, but the code is *basically* the same. Since our data is already split, you will follow the same steps to fit your model, make some predictions, evaluate the performance, and visualize your confusion matrix."
   ]
  },
  {
   "cell_type": "code",
   "execution_count": 0,
   "metadata": {
    "collapsed": false,
    "id": "LW9bLcghmT5d"
   },
   "outputs": [
   ],
   "source": [
    "from sklearn.svm import SVC\n",
    "#Create your model object -- you can go back and change the kernel argument after evaluating your data."
   ]
  },
  {
   "cell_type": "markdown",
   "metadata": {
    "collapsed": false,
    "id": "Bk4rua0er_QF"
   },
   "source": [
    "Do you remember how to fit a model? What parts of our data do we fit/train on? You can go look at the section above for inspiration."
   ]
  },
  {
   "cell_type": "code",
   "execution_count": 0,
   "metadata": {
    "collapsed": false,
    "id": "cu2cA4YBqrNL"
   },
   "outputs": [
   ],
   "source": [
    "#fit your model\n"
   ]
  },
  {
   "cell_type": "markdown",
   "metadata": {
    "collapsed": false,
    "id": "4oAExynzsveF"
   },
   "source": [
    "Now create some predictions and set them equal to `y_hat`. You can look above or google how to make predictions on sklearn if you get confused!"
   ]
  },
  {
   "cell_type": "code",
   "execution_count": 0,
   "metadata": {
    "collapsed": false,
    "id": "Hkrx7foxsuNZ"
   },
   "outputs": [
   ],
   "source": [
    "#create some predictions on your testing inputs and set them equal to y_hat.\n"
   ]
  },
  {
   "cell_type": "markdown",
   "metadata": {
    "collapsed": false,
    "id": "k-ANsXzitBdu"
   },
   "source": [
    "Compute your MSE below. Is this higher or lower than KNN? Which one would you recommend so far?"
   ]
  },
  {
   "cell_type": "code",
   "execution_count": 0,
   "metadata": {
    "collapsed": false,
    "id": "zz8OFQxFs8N0"
   },
   "outputs": [
   ],
   "source": [
    "#Compute your MSE.\n"
   ]
  },
  {
   "cell_type": "markdown",
   "metadata": {
    "collapsed": false,
    "id": "Ge0IHJ7AtQI2"
   },
   "source": [
    "Now, create a confusion matrix! How are the results? Do we end up with more false negatives or false positives?"
   ]
  },
  {
   "cell_type": "code",
   "execution_count": 0,
   "metadata": {
    "collapsed": false,
    "id": "Xlm2k_-otFgI"
   },
   "outputs": [
   ],
   "source": [
    "#Create a confusion matrix\n"
   ]
  },
  {
   "cell_type": "markdown",
   "metadata": {
    "collapsed": false,
    "id": "6AyqrZd9v9BR"
   },
   "source": [
    "Amazing, now try changing your kernel and seeing how your results change. You can research what kernels are available here: https://scikit-learn.org/stable/modules/generated/sklearn.svm.SVC.html. If your interested in more ML with SKLearn you should get used to pages like these!"
   ]
  },
  {
   "cell_type": "markdown",
   "metadata": {
    "collapsed": false,
    "id": "hd9Jqq18wFkd"
   },
   "source": [
    "### Want more?\n",
    "\n",
    "There are dozens of models available on SKLearn: https://scikit-learn.org/stable/supervised_learning.html.\n",
    "\n",
    "You can try an implement your own below, I recommend starting with logistic regression or random forests :) "
   ]
  },
  {
   "cell_type": "code",
   "execution_count": 0,
   "metadata": {
    "collapsed": false,
    "id": "CC0NmaY7v7_K"
   },
   "outputs": [
   ],
   "source": [
    "#have fun!"
   ]
  }
 ],
 "metadata": {
  "colab": {
   "collapsed_sections": [
   ],
   "name": "Cancer_detection.ipynb",
   "provenance": [
   ]
  },
  "kernelspec": {
   "display_name": "Python (ds_env)",
   "language": "python",
   "metadata": {
    "debugger": true
   },
   "name": "ds_env",
   "resource_dir": "/projects/32f31ee3-50e6-4896-a9de-cba73af32175/.local/share/jupyter/kernels/ds_env"
  },
  "language_info": {
   "codemirror_mode": {
    "name": "ipython",
    "version": 3
   },
   "file_extension": ".py",
   "mimetype": "text/x-python",
   "name": "python",
   "nbconvert_exporter": "python",
   "pygments_lexer": "ipython3",
   "version": "3.8.13"
  }
 },
 "nbformat": 4,
 "nbformat_minor": 4
}